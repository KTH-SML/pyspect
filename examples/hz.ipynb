{
 "cells": [
  {
   "cell_type": "markdown",
   "metadata": {},
   "source": [
    "# Hybrid Zonotopes"
   ]
  },
  {
   "cell_type": "code",
   "execution_count": 1,
   "metadata": {},
   "outputs": [],
   "source": [
    "# Generic TLT imports\n",
    "from pyspect import *\n",
    "from pyspect.langs.ltl import *\n",
    "# Hybrid Zonotope imports\n",
    "from hz_reachability.hz_impl import HZImpl\n",
    "from hz_reachability.systems.cars import CarLinearModel2D\n",
    "from hz_reachability.shapes import HZShapes\n",
    "from hz_reachability.spaces import ParkingSpace\n",
    "\n",
    "TLT.select(ContinuousLTL)"
   ]
  },
  {
   "cell_type": "markdown",
   "metadata": {},
   "source": [
    "## Environment definition"
   ]
  },
  {
   "cell_type": "code",
   "execution_count": 2,
   "metadata": {},
   "outputs": [],
   "source": [
    "# Option 1: Use the existing set templates or cretate your own (Not implemented for HZ yet).\n",
    "# e.g., state_space = ReferredSet('state_space')\n",
    "\n",
    "# Option 2: Use the generic Set method to import any custom shape\n",
    "shapes = HZShapes()\n",
    "center = Set(shapes.center())\n",
    "road_west = Set(shapes.road_west())\n",
    "road_east = Set(shapes.road_east())\n",
    "road_north = Set(shapes.road_north())\n",
    "road_south = Set(shapes.road_south())"
   ]
  },
  {
   "cell_type": "markdown",
   "metadata": {},
   "source": [
    "## Definitions"
   ]
  },
  {
   "cell_type": "markdown",
   "metadata": {},
   "source": [
    "### Task"
   ]
  },
  {
   "cell_type": "code",
   "execution_count": 3,
   "metadata": {},
   "outputs": [],
   "source": [
    "# Example task: Stay in road_e, or road_n UNTIL you REACH exit_n.\n",
    "task = Until(Or(road_east, road_north), center)"
   ]
  },
  {
   "cell_type": "markdown",
   "metadata": {},
   "source": [
    "### Dynamics"
   ]
  },
  {
   "cell_type": "code",
   "execution_count": 4,
   "metadata": {},
   "outputs": [],
   "source": [
    "reach_dynamics = CarLinearModel2D()"
   ]
  },
  {
   "cell_type": "markdown",
   "metadata": {},
   "source": [
    "### Implementation"
   ]
  },
  {
   "cell_type": "code",
   "execution_count": 5,
   "metadata": {},
   "outputs": [],
   "source": [
    "# Hybrid Zonotope implementation\n",
    "impl = HZImpl(dynamics=reach_dynamics, space = ParkingSpace(), time_horizon = 5)"
   ]
  },
  {
   "cell_type": "markdown",
   "metadata": {},
   "source": [
    "## Solve"
   ]
  },
  {
   "cell_type": "markdown",
   "metadata": {},
   "source": [
    "- `construct(task)`: Take an LTL, a set, or a lazy set, or an already constructed TLT and make sure it is a valid TLT object. Basically construct the compute graph for the given task.\n",
    "- `realize(impl)`: initiates the actual computations.\n",
    "- `out`: The final set in your specific set implementation. e.g., it would be a hybrid zonotope."
   ]
  },
  {
   "cell_type": "code",
   "execution_count": 6,
   "metadata": {},
   "outputs": [
    {
     "name": "stdout",
     "output_type": "stream",
     "text": [
      "out = <hz_reachability.sets.HybridZonotope object at 0x7f0dd892ed80>\n",
      "Gc = \n",
      "[[0.05 0.   0.   ... 0.   0.   0.  ]\n",
      " [0.   0.95 0.   ... 0.   0.   0.  ]]\n"
     ]
    }
   ],
   "source": [
    "# Solve the problem - Find the states that can satisfy the task\n",
    "out = TLT.construct(task).realize(impl)\n",
    "\n",
    "print(f'out = {out}')\n",
    "print(f'Gc = \\n{out.Gc}')"
   ]
  },
  {
   "cell_type": "markdown",
   "metadata": {},
   "source": [
    "## Conversion"
   ]
  },
  {
   "cell_type": "markdown",
   "metadata": {},
   "source": [
    "### HJ Setup"
   ]
  },
  {
   "cell_type": "code",
   "execution_count": 9,
   "metadata": {},
   "outputs": [],
   "source": [
    "import hj_reachability as hj\n",
    "\n",
    "from pyspect.impls.hj_reachability import HJImpl\n",
    "from hj_reachability.systems import Bicycle4D\n",
    "from pyspect.plotting.levelsets import *\n",
    "\n",
    "from math import pi\n",
    "\n",
    "# Define origin and size of area, makes it easier to scale up/down later on \n",
    "X0, XN = -1.2, 2.4\n",
    "Y0, YN = -1.2, 2.4\n",
    "\n",
    "min_bounds = np.array([   X0,    Y0, +0.3, +0.3])\n",
    "max_bounds = np.array([XN+X0, YN+Y0, +0.8, +0.8])\n",
    "grid = hj.Grid.from_lattice_parameters_and_boundary_conditions(hj.sets.Box(min_bounds, max_bounds),\n",
    "                                                               (31, 31, 15, 15),\n",
    "                                                               periodic_dims=2)\n",
    "\n",
    "dynamics = dict(cls=Bicycle4D,\n",
    "                min_steer=-pi/4, \n",
    "                max_steer=+pi/4,\n",
    "                min_accel=-0.4,\n",
    "                max_accel=+0.4)\n",
    "\n",
    "impl = HJImpl(dynamics, grid, 3)\n",
    "impl.set_axes_names('t', 'x', 'y', 'vx', 'vy')"
   ]
  },
  {
   "cell_type": "markdown",
   "metadata": {},
   "source": [
    "### Method"
   ]
  },
  {
   "cell_type": "code",
   "execution_count": null,
   "metadata": {},
   "outputs": [],
   "source": [
    "import hj_reachability.shapes as shp\n",
    "\n",
    "vf = shp.point(grid, out.C)"
   ]
  }
 ],
 "metadata": {
  "kernelspec": {
   "display_name": "pyspect",
   "language": "python",
   "name": "python3"
  },
  "language_info": {
   "codemirror_mode": {
    "name": "ipython",
    "version": 3
   },
   "file_extension": ".py",
   "mimetype": "text/x-python",
   "name": "python",
   "nbconvert_exporter": "python",
   "pygments_lexer": "ipython3",
   "version": "3.12.7"
  }
 },
 "nbformat": 4,
 "nbformat_minor": 2
}
