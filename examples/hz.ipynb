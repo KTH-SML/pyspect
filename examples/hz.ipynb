{
 "cells": [
  {
   "cell_type": "markdown",
   "metadata": {},
   "source": [
    "# Hybrid Zonotopes"
   ]
  },
  {
   "cell_type": "code",
   "execution_count": 1,
   "metadata": {},
   "outputs": [],
   "source": [
    "# Generic TLT imports\n",
    "from pyspect import *\n",
    "from pyspect.langs.ltl import *\n",
    "# Hybrid Zonotope imports\n",
    "from hz_reachability.hz_impl import HZImpl\n",
    "from hz_reachability.systems.cars import CarLinearModel2D\n",
    "from hz_reachability.shapes import HZShapes\n",
    "from hz_reachability.spaces import ParkingSpace\n",
    "\n",
    "TLT.select(ContinuousLTL)"
   ]
  },
  {
   "cell_type": "markdown",
   "metadata": {},
   "source": [
    "## Environment definition"
   ]
  },
  {
   "cell_type": "code",
   "execution_count": 2,
   "metadata": {},
   "outputs": [],
   "source": [
    "# Option 1: Use the existing set templates or cretate your own (Not implemented for HZ yet).\n",
    "# e.g., state_space = ReferredSet('state_space')\n",
    "\n",
    "# Option 2: Use the generic Set method to import any custom shape\n",
    "shapes = HZShapes()\n",
    "center = Set(shapes.center())\n",
    "road_west = Set(shapes.road_west())\n",
    "road_east = Set(shapes.road_east())\n",
    "road_north = Set(shapes.road_north())\n",
    "road_south = Set(shapes.road_south())"
   ]
  },
  {
   "cell_type": "markdown",
   "metadata": {},
   "source": [
    "## Definitions"
   ]
  },
  {
   "cell_type": "markdown",
   "metadata": {},
   "source": [
    "### Task"
   ]
  },
  {
   "cell_type": "code",
   "execution_count": 3,
   "metadata": {},
   "outputs": [],
   "source": [
    "# Example task: Stay in road_e, or road_n UNTIL you REACH exit_n.\n",
    "task = Until(Or(road_east, road_north), center)"
   ]
  },
  {
   "cell_type": "markdown",
   "metadata": {},
   "source": [
    "### Dynamics"
   ]
  },
  {
   "cell_type": "code",
   "execution_count": 4,
   "metadata": {},
   "outputs": [],
   "source": [
    "reach_dynamics = CarLinearModel2D()"
   ]
  },
  {
   "cell_type": "markdown",
   "metadata": {},
   "source": [
    "### Implementation"
   ]
  },
  {
   "cell_type": "code",
   "execution_count": 5,
   "metadata": {},
   "outputs": [],
   "source": [
    "# Hybrid Zonotope implementation\n",
    "impl = HZImpl(dynamics=reach_dynamics, space = ParkingSpace(), time_horizon = 5)"
   ]
  },
  {
   "cell_type": "markdown",
   "metadata": {},
   "source": [
    "## Solve"
   ]
  },
  {
   "cell_type": "markdown",
   "metadata": {},
   "source": [
    "- `construct(task)`: Take an LTL, a set, or a lazy set, or an already constructed TLT and make sure it is a valid TLT object. Basically construct the compute graph for the given task.\n",
    "- `realize(impl)`: initiates the actual computations.\n",
    "- `out`: The final set in your specific set implementation. e.g., it would be a hybrid zonotope."
   ]
  },
  {
   "cell_type": "code",
   "execution_count": 6,
   "metadata": {},
   "outputs": [
    {
     "name": "stdout",
     "output_type": "stream",
     "text": [
      "out = <hz_reachability.sets.HybridZonotope object at 0x7f5374007fe0>\n",
      "Gc = \n",
      "[[0.05 0.   0.   ... 0.   0.   0.  ]\n",
      " [0.   0.95 0.   ... 0.   0.   0.  ]]\n"
     ]
    }
   ],
   "source": [
    "# Solve the problem - Find the states that can satisfy the task\n",
    "out = TLT.construct(task).realize(impl)\n",
    "\n",
    "print(f'out = {out}')\n",
    "print(f'Gc = \\n{out.Gc}')"
   ]
  },
  {
   "cell_type": "markdown",
   "metadata": {},
   "source": [
    "## Conversion"
   ]
  },
  {
   "cell_type": "markdown",
   "metadata": {},
   "source": [
    "### HJ Setup"
   ]
  },
  {
   "cell_type": "code",
   "execution_count": 7,
   "metadata": {},
   "outputs": [],
   "source": [
    "import numpy as np\n",
    "import hj_reachability as hj\n",
    "\n",
    "class HJImpl(ContinuousLTL.Impl):\n",
    "\n",
    "    solver_settings = hj.SolverSettings.with_accuracy(\"low\")\n",
    "\n",
    "    def __init__(self, dynamics, grid, time_horizon):\n",
    "        self.grid = grid\n",
    "        self.ndim = grid.ndim\n",
    "        self.dynamics = dynamics\n",
    "        self.timeline = self.new_timeline(time_horizon)\n",
    "           \n",
    "    def new_timeline(self, target_time, start_time=0, time_step=0.2):\n",
    "        assert time_step > 0\n",
    "        is_forward = target_time >= start_time\n",
    "        target_time += 1e-5 if is_forward else -1e-5\n",
    "        time_step *= 1 if is_forward else -1\n",
    "        return np.arange(start_time, target_time, time_step)\n",
    "\n",
    "    def set_axes_names(self, *args):\n",
    "        assert len(args) == self.ndim\n",
    "        self._axes_names = tuple(args)\n",
    "\n",
    "    def axis(self, name: str) -> int:\n",
    "        assert name in self._axes_names, f'Axis ({name=}) does not exist.'\n",
    "        return self._axes_names.index(name)\n",
    "\n",
    "    def axis_name(self, i: int) -> str:\n",
    "        assert i < len(self._axes_names), f'Axis ({i=}) does not exist.'\n",
    "        return self._axes_names[i]\n",
    "\n",
    "    def axis_is_periodic(self, i: int) -> bool:\n",
    "        assert i < len(self._axes_names), f'Axis ({i=}) does not exist.'\n",
    "        return bool(self.grid._is_periodic_dim[i])\n",
    "\n",
    "    def plane_cut(self, normal, offset, axes=None):\n",
    "        data = np.zeros(self.grid.shape)\n",
    "        axes = axes or list(range(self.grid.ndim))\n",
    "        x = lambda i: self.grid.states[..., i]\n",
    "        for i, k, m in zip(axes, normal, offset):\n",
    "            data -= k*x(i) - k*m\n",
    "        return data\n",
    "\n",
    "    def empty(self):\n",
    "        return np.ones(self.grid.shape)*np.inf\n",
    "    \n",
    "    def complement(self, vf):\n",
    "        return np.asarray(-vf)\n",
    "    \n",
    "    def intersect(self, vf1, vf2):\n",
    "        return np.maximum(vf1, vf2)\n",
    "\n",
    "    def union(self, vf1, vf2):\n",
    "        return np.minimum(vf1, vf2)\n",
    "    \n",
    "    def reach(self, target, constraints=None):\n",
    "        self.dynamics.with_mode('reach')\n",
    "        if not self.is_invariant(target):\n",
    "            target = np.flip(target, axis=0)\n",
    "        if not self.is_invariant(constraints):\n",
    "            constraints = np.flip(constraints, axis=0)\n",
    "        vf = hj.solve(self.solver_settings,\n",
    "                      self.dynamics,\n",
    "                      self.grid,\n",
    "                      -self.timeline,\n",
    "                      target,\n",
    "                      constraints)\n",
    "        return np.flip(np.asarray(vf), axis=0)\n",
    "    \n",
    "    def avoid(self, target, constraints=None):\n",
    "        self.dynamics.with_mode('avoid')\n",
    "        if not self.is_invariant(target):\n",
    "            target = np.flip(target, axis=0)\n",
    "        if not self.is_invariant(constraints):\n",
    "            constraints = np.flip(constraints, axis=0)\n",
    "        vf = hj.solve(self.solver_settings,\n",
    "                      self.dynamics,\n",
    "                      self.grid,\n",
    "                      -self.timeline,\n",
    "                      target,\n",
    "                      constraints)\n",
    "        return np.flip(np.asarray(vf), axis=0)\n",
    "\n",
    "    def project_onto(self, vf, *idxs, keepdims=False, union=True):\n",
    "        idxs = [len(vf.shape) + i if i < 0 else i for i in idxs]\n",
    "        dims = [i for i in range(len(vf.shape)) if i not in idxs]\n",
    "        if union:\n",
    "            return vf.min(axis=tuple(dims), keepdims=keepdims)\n",
    "        else:\n",
    "            return vf.max(axis=tuple(dims), keepdims=keepdims)\n",
    "\n",
    "    def is_invariant(self, vf):\n",
    "        return (True if vf is None else\n",
    "                len(vf.shape) != len(self.timeline.shape + self.grid.shape))\n",
    "\n",
    "    def make_tube(self, vf):\n",
    "        return (vf if not self.is_invariant(vf) else\n",
    "                np.concatenate([vf[np.newaxis, ...]] * len(self.timeline)))"
   ]
  },
  {
   "cell_type": "code",
   "execution_count": 8,
   "metadata": {},
   "outputs": [],
   "source": [
    "from hj_reachability.systems import Bicycle4D\n",
    "from pyspect.plotting.levelsets import *\n",
    "\n",
    "from math import pi\n",
    "\n",
    "# Define origin and size of area, makes it easier to scale up/down later on \n",
    "X0, XN = -1.2, 2.4\n",
    "Y0, YN = -1.2, 2.4\n",
    "\n",
    "min_bounds = np.array([   X0,    Y0, +0.3, +0.3])\n",
    "max_bounds = np.array([XN+X0, YN+Y0, +0.8, +0.8])\n",
    "grid = hj.Grid.from_lattice_parameters_and_boundary_conditions(hj.sets.Box(min_bounds, max_bounds),\n",
    "                                                               (31, 31, 15, 15),\n",
    "                                                               periodic_dims=2)\n",
    "\n",
    "impl = HJImpl(reach_dynamics, grid, 3)\n",
    "impl.set_axes_names('x', 'y', 'vx', 'vy')"
   ]
  },
  {
   "cell_type": "markdown",
   "metadata": {},
   "source": [
    "### Method"
   ]
  },
  {
   "cell_type": "code",
   "execution_count": null,
   "metadata": {},
   "outputs": [],
   "source": [
    "import hj_reachability.shapes as shp\n",
    "\n",
    "vf = shp.point(grid, out.C)"
   ]
  }
 ],
 "metadata": {
  "kernelspec": {
   "display_name": "pyspect",
   "language": "python",
   "name": "python3"
  },
  "language_info": {
   "codemirror_mode": {
    "name": "ipython",
    "version": 3
   },
   "file_extension": ".py",
   "mimetype": "text/x-python",
   "name": "python",
   "nbconvert_exporter": "python",
   "pygments_lexer": "ipython3",
   "version": "3.12.7"
  }
 },
 "nbformat": 4,
 "nbformat_minor": 2
}
