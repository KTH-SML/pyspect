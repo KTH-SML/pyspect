{
 "cells": [
  {
   "cell_type": "markdown",
   "metadata": {},
   "source": [
    "# The 4-way Intersection"
   ]
  },
  {
   "cell_type": "markdown",
   "metadata": {},
   "source": [
    "`pyspect` can set up problems independently from implementations...\n",
    "At this stage, we only need to import pyspect and select a pyspect language..."
   ]
  },
  {
   "cell_type": "code",
   "execution_count": 1,
   "metadata": {},
   "outputs": [],
   "source": [
    "from math import pi\n",
    "\n",
    "from pyspect import *\n",
    "from pyspect.langs.ltl import *\n",
    "\n",
    "TLT.select(ContinuousLTL)"
   ]
  },
  {
   "cell_type": "markdown",
   "metadata": {},
   "source": [
    "## Environment\n",
    "\n",
    "Let us first setup the 4-way intersection environment..."
   ]
  },
  {
   "cell_type": "code",
   "execution_count": 2,
   "metadata": {},
   "outputs": [],
   "source": [
    "## CONSTANTS ##\n",
    "\n",
    "# Define origin and size of area, makes it easier to scale up/down later on \n",
    "X0, XN = -1.2, 2.4\n",
    "Y0, YN = -1.2, 2.4"
   ]
  },
  {
   "cell_type": "markdown",
   "metadata": {},
   "source": [
    "In `pyspect`, we are able to define sets abstractly. They are evaluated [lazily](https://wikipedia.com). For ease-of-use we provide functions for this:\n",
    "- `BoundedSet`\n",
    "- `HalfSpaceSet`\n",
    "- `...`"
   ]
  },
  {
   "cell_type": "code",
   "execution_count": 3,
   "metadata": {},
   "outputs": [],
   "source": [
    "## TRAFFIC RULES ##\n",
    "\n",
    "speedlimit = BoundedSet(v=(0.3, 0.6))"
   ]
  },
  {
   "cell_type": "markdown",
   "metadata": {},
   "source": [
    "A benefit of using `pyspects` TLTs is that we can mix set definitions and logic statements...\n",
    "To comply with `center`, a system needs to be member of all provided sets and other defined rules, e.g. `speedlimit`. "
   ]
  },
  {
   "cell_type": "code",
   "execution_count": 4,
   "metadata": {},
   "outputs": [],
   "source": [
    "## INTERSECTION CENTER ##\n",
    "\n",
    "center = And(\n",
    "    BoundedSet(x=(X0 + 0.2*XN, X0 + 0.8*XN), y=(Y0 + 0.2*YN, Y0 + 0.8*YN)),\n",
    "    HalfSpaceSet(normal=[+1, +1], offset=[X0 + 0.25*XN, Y0 + 0.25*YN]),\n",
    "    HalfSpaceSet(normal=[-1, +1], offset=[X0 + 0.75*XN, Y0 + 0.25*YN]),\n",
    "    HalfSpaceSet(normal=[-1, -1], offset=[X0 + 0.75*XN, Y0 + 0.75*YN]),\n",
    "    HalfSpaceSet(normal=[+1, -1], offset=[X0 + 0.25*XN, Y0 + 0.75*YN]),\n",
    "    speedlimit\n",
    ")"
   ]
  },
  {
   "cell_type": "markdown",
   "metadata": {},
   "source": [
    "We see this here as well..."
   ]
  },
  {
   "cell_type": "code",
   "execution_count": 5,
   "metadata": {},
   "outputs": [],
   "source": [
    "## ROADS ##\n",
    "\n",
    "road_e = BoundedSet(y=(Y0 + 0.3*YN, Y0 + 0.5*YN), h=(-pi/5, +pi/5))\n",
    "road_e = Or(And(road_e, speedlimit), center)\n",
    "\n",
    "road_w = BoundedSet(y=(Y0 + 0.5*YN, Y0 + 0.7*YN), h=(+pi - pi/5, -pi + pi/5))\n",
    "road_w = Or(And(road_w, speedlimit), center)\n",
    "\n",
    "road_n = BoundedSet(x=(X0 + 0.5*XN, X0 + 0.7*XN), h=(+pi/2 - pi/5, +pi/2 + pi/5))\n",
    "road_n = Or(And(road_n, speedlimit), center)\n",
    "\n",
    "road_s = BoundedSet(x=(X0 + 0.3*XN, X0 + 0.5*XN), h=(-pi/2 - pi/5, -pi/2 + pi/5))\n",
    "road_s = Or(And(road_s, speedlimit), center)"
   ]
  },
  {
   "cell_type": "markdown",
   "metadata": {},
   "source": [
    "Later in this example, we will primarily work with entries and exits..."
   ]
  },
  {
   "cell_type": "code",
   "execution_count": 6,
   "metadata": {},
   "outputs": [],
   "source": [
    "## ENTRIES ##\n",
    "\n",
    "entry_e = And(BoundedSet(x=(X0 + 0.85*XN, X0 + 1.00*XN), y=(Y0 + 0.53*YN, Y0 + 0.67*YN)), road_w)\n",
    "entry_w = And(BoundedSet(x=(X0 + 0.00*XN, X0 + 0.15*XN), y=(Y0 + 0.33*YN, Y0 + 0.47*YN)), road_e)\n",
    "entry_n = And(BoundedSet(x=(X0 + 0.33*XN, X0 + 0.47*XN), y=(Y0 + 0.85*YN, Y0 + 1.00*YN)), road_s)\n",
    "entry_s = And(BoundedSet(x=(X0 + 0.53*XN, X0 + 0.67*XN), y=(Y0 + 0.00*YN, Y0 + 0.15*YN)), road_n)\n",
    "\n",
    "\n",
    "## EXITS ##\n",
    "\n",
    "exit_e = And(BoundedSet(x=(X0 + 0.85*XN, X0 + 1.00*XN), y=(Y0 + 0.33*YN, Y0 + 0.47*YN)), road_e)\n",
    "exit_w = And(BoundedSet(x=(X0 + 0.00*XN, X0 + 0.15*XN), y=(Y0 + 0.53*YN, Y0 + 0.67*YN)), road_w)\n",
    "exit_n = And(BoundedSet(x=(X0 + 0.53*XN, X0 + 0.67*XN), y=(Y0 + 0.85*YN, Y0 + 1.00*YN)), road_n)\n",
    "exit_s = And(BoundedSet(x=(X0 + 0.33*XN, X0 + 0.47*XN), y=(Y0 + 0.00*YN, Y0 + 0.15*YN)), road_s)"
   ]
  },
  {
   "cell_type": "markdown",
   "metadata": {},
   "source": [
    "We can define new functions..."
   ]
  },
  {
   "cell_type": "code",
   "execution_count": 7,
   "metadata": {},
   "outputs": [],
   "source": [
    "def FollowTo(constraint, goal_or_constraint, *more):\n",
    "    if more: # 2nd arg is constraint\n",
    "        return FollowTo(And(constraint, goal_or_constraint), *more)\n",
    "    else: # 2nd arg is exit\n",
    "        return Until(constraint, goal_or_constraint)"
   ]
  },
  {
   "cell_type": "markdown",
   "metadata": {},
   "source": [
    "Three vehicles in the scenario must follow these rules..."
   ]
  },
  {
   "cell_type": "code",
   "execution_count": 8,
   "metadata": {},
   "outputs": [],
   "source": [
    "vehicle_1 = FollowTo(Or(road_e, road_n), exit_n)\n",
    "\n",
    "vehicle_2 = FollowTo(road_n, Not(vehicle_1), exit_n)\n",
    "\n",
    "vehicle_3 = FollowTo(road_e, Not(vehicle_1), Not(vehicle_2), exit_e)"
   ]
  },
  {
   "cell_type": "markdown",
   "metadata": {},
   "source": [
    "## Implementations"
   ]
  },
  {
   "cell_type": "markdown",
   "metadata": {},
   "source": [
    "Implementations and set representations are completely general. To demonstrate, we define the simplest implementation.\n",
    "`StrImpl` produces strings that \"represent\" the sets. This is completetly fine as well...  "
   ]
  },
  {
   "cell_type": "code",
   "execution_count": 9,
   "metadata": {},
   "outputs": [],
   "source": [
    "class StrImpl(ContinuousLTL.Impl):\n",
    "\n",
    "    def __init__(self, ndim: int) -> None:\n",
    "        self.ndim = ndim\n",
    "\n",
    "    def set_axes_names(self, *args):\n",
    "        assert len(args) == self.ndim\n",
    "        self._axes_names = args\n",
    "\n",
    "    def axis(self, name: str) -> int:\n",
    "        return self._axes_names.index(name)\n",
    "\n",
    "    def axis_name(self, i: int) -> str:\n",
    "        return self._axes_names[i]\n",
    "    \n",
    "    def axis_is_periodic(self, i: int) -> bool:\n",
    "        return False\n",
    "\n",
    "    def plane_cut(self, normal, offset, axes=None):\n",
    "        return 'plane{...}'\n",
    "\n",
    "    def empty(self):\n",
    "        return 'empty{ }'\n",
    "    \n",
    "    def complement(self, vf):\n",
    "        return f'({vf})^C'\n",
    "    \n",
    "    def intersect(self, vf1, vf2):\n",
    "        return f'({vf1} ∩ {vf2})'\n",
    "\n",
    "    def union(self, vf1, vf2):\n",
    "        return f'({vf1} ∪ {vf2})'\n",
    "    \n",
    "    def reach(self, target, constraints=None):\n",
    "        return f'Reach({target}, {constraints})'\n",
    "\n",
    "    def avoid(self, target, constraints=None):\n",
    "        return f'Avoid({target}, {constraints})'"
   ]
  },
  {
   "cell_type": "code",
   "execution_count": 10,
   "metadata": {},
   "outputs": [
    {
     "name": "stdout",
     "output_type": "stream",
     "text": [
      "Reach(((((empty{ })^C ∩ (plane{...} ∩ plane{...})) ∩ (plane{...} ∩ plane{...})) ∩ (((((empty{ })^C ∩ (plane{...} ∩ plane{...})) ∩ (plane{...} ∩ plane{...})) ∩ ((empty{ })^C ∩ (plane{...} ∩ plane{...}))) ∪ ((((((((empty{ })^C ∩ (plane{...} ∩ plane{...})) ∩ (plane{...} ∩ plane{...})) ∩ plane{...}) ∩ plane{...}) ∩ plane{...}) ∩ plane{...}) ∩ ((empty{ })^C ∩ (plane{...} ∩ plane{...}))))), ((((((empty{ })^C ∩ (plane{...} ∩ plane{...})) ∩ (plane{...} ∩ plane{...})) ∩ ((empty{ })^C ∩ (plane{...} ∩ plane{...}))) ∪ ((((((((empty{ })^C ∩ (plane{...} ∩ plane{...})) ∩ (plane{...} ∩ plane{...})) ∩ plane{...}) ∩ plane{...}) ∩ plane{...}) ∩ plane{...}) ∩ ((empty{ })^C ∩ (plane{...} ∩ plane{...})))) ∩ (Reach(((((empty{ })^C ∩ (plane{...} ∩ plane{...})) ∩ (plane{...} ∩ plane{...})) ∩ (((((empty{ })^C ∩ (plane{...} ∩ plane{...})) ∩ (plane{...} ∩ plane{...})) ∩ ((empty{ })^C ∩ (plane{...} ∩ plane{...}))) ∪ ((((((((empty{ })^C ∩ (plane{...} ∩ plane{...})) ∩ (plane{...} ∩ plane{...})) ∩ plane{...}) ∩ plane{...}) ∩ plane{...}) ∩ plane{...}) ∩ ((empty{ })^C ∩ (plane{...} ∩ plane{...}))))), ((((((empty{ })^C ∩ (plane{...} ∩ plane{...})) ∩ (plane{...} ∩ plane{...})) ∩ ((empty{ })^C ∩ (plane{...} ∩ plane{...}))) ∪ ((((((((empty{ })^C ∩ (plane{...} ∩ plane{...})) ∩ (plane{...} ∩ plane{...})) ∩ plane{...}) ∩ plane{...}) ∩ plane{...}) ∩ plane{...}) ∩ ((empty{ })^C ∩ (plane{...} ∩ plane{...})))) ∪ (((((empty{ })^C ∩ (plane{...} ∩ plane{...})) ∩ (plane{...} ∩ plane{...})) ∩ ((empty{ })^C ∩ (plane{...} ∩ plane{...}))) ∪ ((((((((empty{ })^C ∩ (plane{...} ∩ plane{...})) ∩ (plane{...} ∩ plane{...})) ∩ plane{...}) ∩ plane{...}) ∩ plane{...}) ∩ plane{...}) ∩ ((empty{ })^C ∩ (plane{...} ∩ plane{...})))))))^C))\n"
     ]
    }
   ],
   "source": [
    "impl = StrImpl(ndim=4)\n",
    "impl.set_axes_names('x', 'y', 'h', 'v')\n",
    "\n",
    "out = TLT.construct(vehicle_2).realize(impl)\n",
    "\n",
    "print(out)"
   ]
  },
  {
   "cell_type": "markdown",
   "metadata": {},
   "source": [
    "Implementation using `hj_reachability`."
   ]
  },
  {
   "cell_type": "code",
   "execution_count": 11,
   "metadata": {},
   "outputs": [],
   "source": [
    "import numpy as np\n",
    "import hj_reachability as hj\n",
    "\n",
    "class HJImpl(ContinuousLTL.Impl):\n",
    "\n",
    "    solver_settings = hj.SolverSettings.with_accuracy(\"low\")\n",
    "\n",
    "    def __init__(self, dynamics, grid, time_horizon):\n",
    "        self.grid = grid\n",
    "        self.ndim = grid.ndim\n",
    "        self.dynamics = dynamics\n",
    "        self.timeline = self.new_timeline(time_horizon)\n",
    "           \n",
    "    def new_timeline(self, target_time, start_time=0, time_step=0.2):\n",
    "        assert time_step > 0\n",
    "        is_forward = target_time >= start_time\n",
    "        target_time += 1e-5 if is_forward else -1e-5\n",
    "        time_step *= 1 if is_forward else -1\n",
    "        return np.arange(start_time, target_time, time_step)\n",
    "\n",
    "    def set_axes_names(self, *args):\n",
    "        assert len(args) == self.ndim\n",
    "        self._axes_names = tuple(args)\n",
    "\n",
    "    def axis(self, name: str) -> int:\n",
    "        assert name in self._axes_names, f'Axis ({name=}) does not exist.'\n",
    "        return self._axes_names.index(name)\n",
    "\n",
    "    def axis_name(self, i: int) -> str:\n",
    "        assert i < len(self._axes_names), f'Axis ({i=}) does not exist.'\n",
    "        return self._axes_names[i]\n",
    "\n",
    "    def axis_is_periodic(self, i: int) -> bool:\n",
    "        assert i < len(self._axes_names), f'Axis ({i=}) does not exist.'\n",
    "        return bool(self.grid._is_periodic_dim[i])\n",
    "\n",
    "    def plane_cut(self, normal, offset, axes=None):\n",
    "        data = np.zeros(self.grid.shape)\n",
    "        axes = axes or list(range(self.grid.ndim))\n",
    "        x = lambda i: self.grid.states[..., i]\n",
    "        for i, k, m in zip(axes, normal, offset):\n",
    "            data -= k*x(i) - k*m\n",
    "        return data\n",
    "\n",
    "    def empty(self):\n",
    "        return np.ones(self.grid.shape)*np.inf\n",
    "    \n",
    "    def complement(self, vf):\n",
    "        return np.asarray(-vf)\n",
    "    \n",
    "    def intersect(self, vf1, vf2):\n",
    "        return np.maximum(vf1, vf2)\n",
    "\n",
    "    def union(self, vf1, vf2):\n",
    "        return np.minimum(vf1, vf2)\n",
    "    \n",
    "    def reach(self, target, constraints=None):\n",
    "        self.dynamics.with_mode('reach')\n",
    "        vf = hj.solve(self.solver_settings,\n",
    "                      self.dynamics,\n",
    "                      self.grid,\n",
    "                      -self.timeline,\n",
    "                      target,\n",
    "                      constraints)\n",
    "        return np.flip(np.asarray(vf), axis=0)\n",
    "    \n",
    "    def avoid(self, target, constraints=None):\n",
    "        self.dynamics.with_mode('avoid')\n",
    "        vf = hj.solve(self.solver_settings,\n",
    "                      self.dynamics,\n",
    "                      self.grid,\n",
    "                      -self.timeline,\n",
    "                      target,\n",
    "                      constraints)\n",
    "        return np.flip(np.asarray(vf), axis=0)\n",
    "\n",
    "    def project_onto(self, vf, *idxs, keepdims=False):\n",
    "        idxs = [len(vf.shape) + i if i < 0 else i for i in idxs]\n",
    "        dims = [i for i in range(len(vf.shape)) if i not in idxs]\n",
    "        return vf.min(axis=tuple(dims), keepdims=keepdims)\n",
    "\n",
    "    def _is_invariant(self):\n",
    "        return len(self.vf.shape) != len(self.timeline.shape + self.grid.shape)\n",
    "\n",
    "    def _make_tube(self):\n",
    "        if self._is_invariant():    \n",
    "            self.vf = np.concatenate([self.vf[np.newaxis, ...]] * len(self.timeline))"
   ]
  },
  {
   "cell_type": "code",
   "execution_count": null,
   "metadata": {},
   "outputs": [],
   "source": [
    "from hj_reachability.systems import Bicycle4D\n",
    "from hj_reachability.plotting import *\n",
    "\n",
    "reach_dynamics = Bicycle4D(min_steer=-5*pi/4, \n",
    "                           max_steer=+5*pi/4,\n",
    "                           min_accel=-0.4,\n",
    "                           max_accel=+0.4)\n",
    "\n",
    "min_bounds = np.array([   X0,    Y0, -pi, +0.3])\n",
    "max_bounds = np.array([XN+X0, YN+Y0, +pi, +0.8])\n",
    "grid = hj.Grid.from_lattice_parameters_and_boundary_conditions(hj.sets.Box(min_bounds, max_bounds),\n",
    "                                                               (31, 31, 25, 7),\n",
    "                                                               periodic_dims=2)\n",
    "\n",
    "impl = HJImpl(reach_dynamics, grid, 10)\n",
    "impl.set_axes_names('x', 'y', 'h', 'v')\n",
    "\n",
    "out = TLT.construct(vehicle_1).realize(impl)\n",
    "\n",
    "fig = new_map(\n",
    "    ('Blues', impl.project_onto(out, 1, 2)),\n",
    "    min_bounds=min_bounds, max_bounds=max_bounds,\n",
    ")\n",
    "fig.show()"
   ]
  },
  {
   "cell_type": "code",
   "execution_count": 14,
   "metadata": {},
   "outputs": [
    {
     "name": "stdout",
     "output_type": "stream",
     "text": [
      "TLT<ContinuousLTL>(EXACT, ('_000007f4d0cc6022',))\n",
      "empty1 TLT<ContinuousLTL>(EXACT, ('_000007f4d0cc6022',))\n",
      "empty2 TLT<ContinuousLTL>(EXACT, ('_000007f4d0cc6022',))\n",
      "foo    idict({'lhs': None, '_000007f4d0cc6022': <EmptySet at 0x000007f4d0cc6022>}) TLT<ContinuousLTL>(OVER, ('AND', ('lhs',), ('_000007f4d0cc6022',)))\n",
      "bar    idict({'_000007f4d0cc6022': <EmptySet at 0x000007f4d0cc6022>}) TLT<ContinuousLTL>(OVER, ('AND', ('_000007f4d0cc6022',), ('_000007f4d0cc6022',)))\n"
     ]
    },
    {
     "data": {
      "text/plain": [
       "'(empty{ } ∩ empty{ })'"
      ]
     },
     "execution_count": 14,
     "metadata": {},
     "output_type": "execute_result"
    }
   ],
   "source": [
    "print(TLT.construct(EMPTY))\n",
    "empty1 = TLT.construct(EMPTY)\n",
    "print('empty1', empty1)\n",
    "empty2 = TLT.construct(EMPTY)\n",
    "print('empty2', empty2)\n",
    "foo = TLT.construct(And('lhs', empty1))\n",
    "print('foo   ', foo._lmap, foo)\n",
    "bar = TLT.construct(foo, lhs=empty2)\n",
    "print('bar   ', bar._lmap, bar)\n",
    "bar.realize(impl)"
   ]
  }
 ],
 "metadata": {
  "kernelspec": {
   "display_name": "pyspect",
   "language": "python",
   "name": "python3"
  },
  "language_info": {
   "codemirror_mode": {
    "name": "ipython",
    "version": 3
   },
   "file_extension": ".py",
   "mimetype": "text/x-python",
   "name": "python",
   "nbconvert_exporter": "python",
   "pygments_lexer": "ipython3",
   "version": "3.8.18"
  }
 },
 "nbformat": 4,
 "nbformat_minor": 2
}
