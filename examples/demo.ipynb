{
 "cells": [
  {
   "cell_type": "markdown",
   "metadata": {},
   "source": [
    "# The 4-way Intersection"
   ]
  },
  {
   "cell_type": "markdown",
   "metadata": {},
   "source": [
    "`pyspect` can set up problems independently from implementations...\n",
    "At this stage, we only need to import pyspect and select a pyspect language..."
   ]
  },
  {
   "cell_type": "code",
   "execution_count": 1,
   "metadata": {},
   "outputs": [],
   "source": [
    "from math import pi\n",
    "\n",
    "from pyspect import *\n",
    "from pyspect.langs.ltl import *\n",
    "\n",
    "TLT.select(ContinuousLTL)"
   ]
  },
  {
   "cell_type": "markdown",
   "metadata": {},
   "source": [
    "## Environment\n",
    "\n",
    "Let us first setup the 4-way intersection environment..."
   ]
  },
  {
   "cell_type": "code",
   "execution_count": 2,
   "metadata": {},
   "outputs": [],
   "source": [
    "## CONSTANTS ##\n",
    "\n",
    "# Define origin and size of area, makes it easier to scale up/down later on \n",
    "X0, XN = -1.2, 2.4\n",
    "Y0, YN = -1.2, 2.4"
   ]
  },
  {
   "cell_type": "markdown",
   "metadata": {},
   "source": [
    "In `pyspect`, we are able to define sets abstractly. They are evaluated [lazily](https://wikipedia.com). For ease-of-use we provide functions for this:\n",
    "- `BoundedSet`\n",
    "- `HalfSpaceSet`\n",
    "- `...`"
   ]
  },
  {
   "cell_type": "code",
   "execution_count": 3,
   "metadata": {},
   "outputs": [],
   "source": [
    "## TRAFFIC RULES ##\n",
    "\n",
    "speedlimit = BoundedSet(v=(0.3, 0.6))"
   ]
  },
  {
   "cell_type": "markdown",
   "metadata": {},
   "source": [
    "A benefit of using `pyspects` TLTs is that we can mix set definitions and logic statements...\n",
    "To comply with `center`, a system needs to be member of all provided sets and other defined rules, e.g. `speedlimit`. "
   ]
  },
  {
   "cell_type": "code",
   "execution_count": 4,
   "metadata": {},
   "outputs": [],
   "source": [
    "## INTERSECTION CENTER ##\n",
    "\n",
    "center = And(\n",
    "    BoundedSet(x=(X0 + 0.2*XN, X0 + 0.8*XN), y=(Y0 + 0.2*YN, Y0 + 0.8*YN)),\n",
    "    HalfSpaceSet(normal=[+1, +1], offset=[X0 + 0.25*XN, Y0 + 0.25*YN]),\n",
    "    HalfSpaceSet(normal=[-1, +1], offset=[X0 + 0.75*XN, Y0 + 0.25*YN]),\n",
    "    HalfSpaceSet(normal=[-1, -1], offset=[X0 + 0.75*XN, Y0 + 0.75*YN]),\n",
    "    HalfSpaceSet(normal=[+1, -1], offset=[X0 + 0.25*XN, Y0 + 0.75*YN]),\n",
    "    speedlimit\n",
    ")"
   ]
  },
  {
   "cell_type": "markdown",
   "metadata": {},
   "source": [
    "We see this here as well..."
   ]
  },
  {
   "cell_type": "code",
   "execution_count": 5,
   "metadata": {},
   "outputs": [],
   "source": [
    "## ROADS ##\n",
    "\n",
    "road_e = BoundedSet(y=(Y0 + 0.3*YN, Y0 + 0.5*YN), h=(-pi/5, +pi/5))\n",
    "road_e = Or(And(road_e, speedlimit), center)\n",
    "\n",
    "road_w = BoundedSet(y=(Y0 + 0.5*YN, Y0 + 0.7*YN), h=(+pi - pi/5, -pi + pi/5))\n",
    "road_w = Or(And(road_w, speedlimit), center)\n",
    "\n",
    "road_n = BoundedSet(x=(X0 + 0.5*XN, X0 + 0.7*XN), h=(+pi/2 - pi/5, +pi/2 + pi/5))\n",
    "road_n = Or(And(road_n, speedlimit), center)\n",
    "\n",
    "road_s = BoundedSet(x=(X0 + 0.3*XN, X0 + 0.5*XN), h=(-pi/2 - pi/5, -pi/2 + pi/5))\n",
    "road_s = Or(And(road_s, speedlimit), center)"
   ]
  },
  {
   "cell_type": "markdown",
   "metadata": {},
   "source": [
    "Later in this example, we will primarily work with entries and exits..."
   ]
  },
  {
   "cell_type": "code",
   "execution_count": 6,
   "metadata": {},
   "outputs": [],
   "source": [
    "## ENTRIES ##\n",
    "\n",
    "entry_e = And(BoundedSet(x=(X0 + 0.85*XN, X0 + 1.00*XN), y=(Y0 + 0.53*YN, Y0 + 0.67*YN)), road_w)\n",
    "entry_w = And(BoundedSet(x=(X0 + 0.00*XN, X0 + 0.15*XN), y=(Y0 + 0.33*YN, Y0 + 0.47*YN)), road_e)\n",
    "entry_n = And(BoundedSet(x=(X0 + 0.33*XN, X0 + 0.47*XN), y=(Y0 + 0.85*YN, Y0 + 1.00*YN)), road_s)\n",
    "entry_s = And(BoundedSet(x=(X0 + 0.53*XN, X0 + 0.67*XN), y=(Y0 + 0.00*YN, Y0 + 0.15*YN)), road_n)\n",
    "\n",
    "\n",
    "## EXITS ##\n",
    "\n",
    "exit_e = And(BoundedSet(x=(X0 + 0.85*XN, X0 + 1.00*XN), y=(Y0 + 0.33*YN, Y0 + 0.47*YN)), road_e)\n",
    "exit_w = And(BoundedSet(x=(X0 + 0.00*XN, X0 + 0.15*XN), y=(Y0 + 0.53*YN, Y0 + 0.67*YN)), road_w)\n",
    "exit_n = And(BoundedSet(x=(X0 + 0.53*XN, X0 + 0.67*XN), y=(Y0 + 0.85*YN, Y0 + 1.00*YN)), road_n)\n",
    "exit_s = And(BoundedSet(x=(X0 + 0.33*XN, X0 + 0.47*XN), y=(Y0 + 0.00*YN, Y0 + 0.15*YN)), road_s)"
   ]
  },
  {
   "cell_type": "markdown",
   "metadata": {},
   "source": [
    "We can define new functions..."
   ]
  },
  {
   "cell_type": "code",
   "execution_count": 7,
   "metadata": {},
   "outputs": [],
   "source": [
    "def FollowTo(constraint, goal_or_constraint, *more):\n",
    "    if more: # 2nd arg is constraint\n",
    "        return FollowTo(And(constraint, goal_or_constraint), *more)\n",
    "    else: # 2nd arg is exit\n",
    "        return Until(constraint, goal_or_constraint)"
   ]
  },
  {
   "cell_type": "markdown",
   "metadata": {},
   "source": [
    "Three vehicles in the scenario must follow these rules..."
   ]
  },
  {
   "cell_type": "code",
   "execution_count": 8,
   "metadata": {},
   "outputs": [],
   "source": [
    "vehicle_1 = FollowTo(Or(road_e, road_n), exit_n)\n",
    "\n",
    "vehicle_2 = FollowTo(road_n, Not(vehicle_1), exit_n)\n",
    "\n",
    "vehicle_3 = FollowTo(road_e, Not(vehicle_1), Not(vehicle_2), exit_e)"
   ]
  },
  {
   "cell_type": "markdown",
   "metadata": {},
   "source": [
    "## Implementations"
   ]
  },
  {
   "cell_type": "markdown",
   "metadata": {},
   "source": [
    "Implementations and set representations are completely general. To demonstrate, we define the simplest implementation.\n",
    "`StrImpl` produces strings that \"represent\" the sets. This is completetly fine as well...  "
   ]
  },
  {
   "cell_type": "code",
   "execution_count": 9,
   "metadata": {},
   "outputs": [],
   "source": [
    "class StrImpl(ContinuousLTL.Impl):\n",
    "\n",
    "    def __init__(self, ndim: int) -> None:\n",
    "        self.ndim = ndim\n",
    "\n",
    "    def set_axes_names(self, *args):\n",
    "        assert len(args) == self.ndim\n",
    "        self._axes_names = args\n",
    "\n",
    "    def axis(self, name: str) -> int:\n",
    "        return self._axes_names.index(name)\n",
    "\n",
    "    def axis_name(self, i: int) -> str:\n",
    "        return self._axes_names[i]\n",
    "    \n",
    "    def axis_is_periodic(self, i: int) -> bool:\n",
    "        return False\n",
    "\n",
    "    def plane_cut(self, normal, offset, axes=None):\n",
    "        return 'plane{...}'\n",
    "\n",
    "    def empty(self):\n",
    "        return 'empty{ }'\n",
    "    \n",
    "    def complement(self, vf):\n",
    "        return f'({vf})^C'\n",
    "    \n",
    "    def intersect(self, vf1, vf2):\n",
    "        return f'({vf1} ∩ {vf2})'\n",
    "\n",
    "    def union(self, vf1, vf2):\n",
    "        return f'({vf1} ∪ {vf2})'\n",
    "    \n",
    "    def reach(self, target, constraints=None):\n",
    "        return f'Reach({target}, {constraints})'\n",
    "\n",
    "    def avoid(self, target, constraints=None):\n",
    "        return f'Avoid({target}, {constraints})'"
   ]
  },
  {
   "cell_type": "code",
   "execution_count": 10,
   "metadata": {},
   "outputs": [
    {
     "name": "stdout",
     "output_type": "stream",
     "text": [
      "Reach(((((empty{ })^C ∩ (plane{...} ∩ plane{...})) ∩ (plane{...} ∩ plane{...})) ∩ (((((empty{ })^C ∩ (plane{...} ∩ plane{...})) ∩ (plane{...} ∩ plane{...})) ∩ ((empty{ })^C ∩ (plane{...} ∩ plane{...}))) ∪ ((((((((empty{ })^C ∩ (plane{...} ∩ plane{...})) ∩ (plane{...} ∩ plane{...})) ∩ plane{...}) ∩ plane{...}) ∩ plane{...}) ∩ plane{...}) ∩ ((empty{ })^C ∩ (plane{...} ∩ plane{...}))))), ((((((empty{ })^C ∩ (plane{...} ∩ plane{...})) ∩ (plane{...} ∩ plane{...})) ∩ ((empty{ })^C ∩ (plane{...} ∩ plane{...}))) ∪ ((((((((empty{ })^C ∩ (plane{...} ∩ plane{...})) ∩ (plane{...} ∩ plane{...})) ∩ plane{...}) ∩ plane{...}) ∩ plane{...}) ∩ plane{...}) ∩ ((empty{ })^C ∩ (plane{...} ∩ plane{...})))) ∩ (Reach(((((empty{ })^C ∩ (plane{...} ∩ plane{...})) ∩ (plane{...} ∩ plane{...})) ∩ (((((empty{ })^C ∩ (plane{...} ∩ plane{...})) ∩ (plane{...} ∩ plane{...})) ∩ ((empty{ })^C ∩ (plane{...} ∩ plane{...}))) ∪ ((((((((empty{ })^C ∩ (plane{...} ∩ plane{...})) ∩ (plane{...} ∩ plane{...})) ∩ plane{...}) ∩ plane{...}) ∩ plane{...}) ∩ plane{...}) ∩ ((empty{ })^C ∩ (plane{...} ∩ plane{...}))))), ((((((empty{ })^C ∩ (plane{...} ∩ plane{...})) ∩ (plane{...} ∩ plane{...})) ∩ ((empty{ })^C ∩ (plane{...} ∩ plane{...}))) ∪ ((((((((empty{ })^C ∩ (plane{...} ∩ plane{...})) ∩ (plane{...} ∩ plane{...})) ∩ plane{...}) ∩ plane{...}) ∩ plane{...}) ∩ plane{...}) ∩ ((empty{ })^C ∩ (plane{...} ∩ plane{...})))) ∪ (((((empty{ })^C ∩ (plane{...} ∩ plane{...})) ∩ (plane{...} ∩ plane{...})) ∩ ((empty{ })^C ∩ (plane{...} ∩ plane{...}))) ∪ ((((((((empty{ })^C ∩ (plane{...} ∩ plane{...})) ∩ (plane{...} ∩ plane{...})) ∩ plane{...}) ∩ plane{...}) ∩ plane{...}) ∩ plane{...}) ∩ ((empty{ })^C ∩ (plane{...} ∩ plane{...})))))))^C))\n"
     ]
    }
   ],
   "source": [
    "impl = StrImpl(ndim=4)\n",
    "impl.set_axes_names('x', 'y', 'h', 'v')\n",
    "\n",
    "out = TLT.construct(vehicle_2).realize(impl)\n",
    "\n",
    "print(out)"
   ]
  },
  {
   "cell_type": "markdown",
   "metadata": {},
   "source": [
    "Implementation using `hj_reachability`."
   ]
  },
  {
   "cell_type": "code",
   "execution_count": 11,
   "metadata": {},
   "outputs": [],
   "source": [
    "import numpy as np\n",
    "import hj_reachability as hj\n",
    "\n",
    "class HJImpl(ContinuousLTL.Impl):\n",
    "\n",
    "    solver_settings = hj.SolverSettings.with_accuracy(\"low\")\n",
    "\n",
    "    def __init__(self, dynamics, grid, time_horizon):\n",
    "        self.grid = grid\n",
    "        self.ndim = grid.ndim\n",
    "        self.dynamics = dynamics\n",
    "        self.timeline = self.new_timeline(time_horizon)\n",
    "           \n",
    "    def new_timeline(self, target_time, start_time=0, time_step=0.2):\n",
    "        assert time_step > 0\n",
    "        is_forward = target_time >= start_time\n",
    "        target_time += 1e-5 if is_forward else -1e-5\n",
    "        time_step *= 1 if is_forward else -1\n",
    "        return np.arange(start_time, target_time, time_step)\n",
    "\n",
    "    def set_axes_names(self, *args):\n",
    "        assert len(args) == self.ndim\n",
    "        self._axes_names = tuple(args)\n",
    "\n",
    "    def axis(self, name: str) -> int:\n",
    "        assert name in self._axes_names, f'Axis ({name=}) does not exist.'\n",
    "        return self._axes_names.index(name)\n",
    "\n",
    "    def axis_name(self, i: int) -> str:\n",
    "        assert i < len(self._axes_names), f'Axis ({i=}) does not exist.'\n",
    "        return self._axes_names[i]\n",
    "\n",
    "    def axis_is_periodic(self, i: int) -> bool:\n",
    "        assert i < len(self._axes_names), f'Axis ({i=}) does not exist.'\n",
    "        return bool(self.grid._is_periodic_dim[i])\n",
    "\n",
    "    def plane_cut(self, normal, offset, axes=None):\n",
    "        data = np.zeros(self.grid.shape)\n",
    "        axes = axes or list(range(self.grid.ndim))\n",
    "        x = lambda i: self.grid.states[..., i]\n",
    "        for i, k, m in zip(axes, normal, offset):\n",
    "            data -= k*x(i) - k*m\n",
    "        return data\n",
    "\n",
    "    def empty(self):\n",
    "        return np.ones(self.grid.shape)*np.inf\n",
    "    \n",
    "    def complement(self, vf):\n",
    "        return np.asarray(-vf)\n",
    "    \n",
    "    def intersect(self, vf1, vf2):\n",
    "        return np.maximum(vf1, vf2)\n",
    "\n",
    "    def union(self, vf1, vf2):\n",
    "        return np.minimum(vf1, vf2)\n",
    "    \n",
    "    def reach(self, target, constraints=None):\n",
    "        self.dynamics.with_mode('reach')\n",
    "        vf = hj.solve(self.solver_settings,\n",
    "                      self.dynamics,\n",
    "                      self.grid,\n",
    "                      -self.timeline,\n",
    "                      target,\n",
    "                      constraints)\n",
    "        return np.flip(np.asarray(vf), axis=0)\n",
    "    \n",
    "    def avoid(self, target, constraints=None):\n",
    "        self.dynamics.with_mode('avoid')\n",
    "        vf = hj.solve(self.solver_settings,\n",
    "                      self.dynamics,\n",
    "                      self.grid,\n",
    "                      -self.timeline,\n",
    "                      target,\n",
    "                      constraints)\n",
    "        return np.flip(np.asarray(vf), axis=0)\n",
    "\n",
    "    def project_onto(self, vf, *idxs, keepdims=False):\n",
    "        idxs = [len(vf.shape) + i if i < 0 else i for i in idxs]\n",
    "        dims = [i for i in range(len(vf.shape)) if i not in idxs]\n",
    "        return vf.min(axis=tuple(dims), keepdims=keepdims)\n",
    "\n",
    "    def _is_invariant(self):\n",
    "        return len(self.vf.shape) != len(self.timeline.shape + self.grid.shape)\n",
    "\n",
    "    def _make_tube(self):\n",
    "        if self._is_invariant():    \n",
    "            self.vf = np.concatenate([self.vf[np.newaxis, ...]] * len(self.timeline))"
   ]
  },
  {
   "cell_type": "code",
   "execution_count": 14,
   "metadata": {},
   "outputs": [
    {
     "name": "stderr",
     "output_type": "stream",
     "text": [
      "100%|##########| 10.0000/10.0 [00:04<00:00,  2.03sim_s/s]\n",
      "/tmp/ipykernel_42300/4215913817.py:24: UserWarning: Matplotlib is currently using module://matplotlib_inline.backend_inline, which is a non-GUI backend, so cannot show the figure.\n",
      "  fig.show()\n"
     ]
    },
    {
     "data": {
      "image/png": "[encoded data removed]",
      "text/plain": [
       "<Figure size 1200x900 with 1 Axes>"
      ]
     },
     "metadata": {},
     "output_type": "display_data"
    }
   ],
   "source": [
    "from hj_reachability.systems import Bicycle4D\n",
    "from hj_reachability.plotting import *\n",
    "\n",
    "reach_dynamics = Bicycle4D(min_steer=-5*pi/4, \n",
    "                           max_steer=+5*pi/4,\n",
    "                           min_accel=-0.4,\n",
    "                           max_accel=+0.4)\n",
    "\n",
    "min_bounds = np.array([   X0,    Y0, -pi, +0.3])\n",
    "max_bounds = np.array([XN+X0, YN+Y0, +pi, +0.8])\n",
    "grid = hj.Grid.from_lattice_parameters_and_boundary_conditions(hj.sets.Box(min_bounds, max_bounds),\n",
    "                                                               (31, 31, 25, 7),\n",
    "                                                               periodic_dims=2)\n",
    "\n",
    "impl = HJImpl(reach_dynamics, grid, 10)\n",
    "impl.set_axes_names('x', 'y', 'h', 'v')\n",
    "\n",
    "out = TLT.construct(vehicle_1).realize(impl)\n",
    "\n",
    "fig = new_map(\n",
    "    ('Blues', impl.project_onto(out, 1, 2)),\n",
    "    min_bounds=min_bounds, max_bounds=max_bounds,\n",
    ")\n",
    "fig.show()"
   ]
  },
  {
   "cell_type": "code",
   "execution_count": 13,
   "metadata": {},
   "outputs": [
    {
     "name": "stdout",
     "output_type": "stream",
     "text": [
      "TLT<ContinuousLTL>(EXACT, _000007fb9c436fdc)\n",
      "empty  TLT<ContinuousLTL>(EXACT, _000007fb9e02d543)\n",
      "center TLT<ContinuousLTL>(OVER, ('AND', ('AND', ('AND', ('AND', ('AND', '_000007fb9e03694c', '_000007fb9e033faf'), '_000007fb9e033fc1'), '_000007fb9e033fb8'), '_000007fb9e033fca'), '_000007fb9e03699d'))\n",
      "foo    TLT<ContinuousLTL>(OVER, ('AND', ('lhs',), ('NOT', '_000007fb9e02c604'))) idict({'lhs': None})\n",
      "bar    TLT<ContinuousLTL>(OVER, ('AND', ('AND', ('AND', ('AND', ('AND', ('AND', '_000007fb9e03694c', '_000007fb9e033faf'), '_000007fb9e033fc1'), '_000007fb9e033fb8'), '_000007fb9e033fca'), '_000007fb9e03699d'), ('NOT', ('_', '0', '0', '0', '0', '0', '7', 'f', 'b', '9', 'e', '0', '2', 'c', '6', '0', '4')))) idict({'lhs': None})\n"
     ]
    },
    {
     "ename": "AssertionError",
     "evalue": "Cannot realize TLT, missing ['lhs']",
     "output_type": "error",
     "traceback": [
      "\u001b[0;31m---------------------------------------------------------------------------\u001b[0m",
      "\u001b[0;31mAssertionError\u001b[0m                            Traceback (most recent call last)",
      "Cell \u001b[0;32mIn[13], line 9\u001b[0m\n\u001b[1;32m      7\u001b[0m \u001b[38;5;28mprint\u001b[39m(\u001b[38;5;124m'\u001b[39m\u001b[38;5;124mfoo   \u001b[39m\u001b[38;5;124m'\u001b[39m, foo, foo\u001b[38;5;241m.\u001b[39m_lmap)\n\u001b[1;32m      8\u001b[0m \u001b[38;5;28mprint\u001b[39m(\u001b[38;5;124m'\u001b[39m\u001b[38;5;124mbar   \u001b[39m\u001b[38;5;124m'\u001b[39m, bar, bar\u001b[38;5;241m.\u001b[39m_lmap)\n\u001b[0;32m----> 9\u001b[0m \u001b[43mbar\u001b[49m\u001b[38;5;241;43m.\u001b[39;49m\u001b[43mrealize\u001b[49m\u001b[43m(\u001b[49m\u001b[43mimpl\u001b[49m\u001b[43m)\u001b[49m\n",
      "File \u001b[0;32m~/Projects/pyspect/src/pyspect/tlt.py:179\u001b[0m, in \u001b[0;36mTLT.realize\u001b[0;34m(self, impl, memoize)\u001b[0m\n\u001b[1;32m    176\u001b[0m \u001b[38;5;28;01mdef\u001b[39;00m \u001b[38;5;21mrealize\u001b[39m(\u001b[38;5;28mself\u001b[39m, impl: I, memoize\u001b[38;5;241m=\u001b[39m\u001b[38;5;28;01mFalse\u001b[39;00m) \u001b[38;5;241m-\u001b[39m\u001b[38;5;241m>\u001b[39m R:\n\u001b[1;32m    177\u001b[0m     \u001b[38;5;28;01massert\u001b[39;00m \u001b[38;5;28misinstance\u001b[39m(impl, \u001b[38;5;28mself\u001b[39m\u001b[38;5;241m.\u001b[39m__language__\u001b[38;5;241m.\u001b[39mImpl), \\\n\u001b[1;32m    178\u001b[0m         \u001b[38;5;124mf\u001b[39m\u001b[38;5;124m'\u001b[39m\u001b[38;5;124mImplementation must inherit from the selected langauge implementation \u001b[39m\u001b[38;5;132;01m{\u001b[39;00m\u001b[38;5;28mself\u001b[39m\u001b[38;5;241m.\u001b[39m__language__\u001b[38;5;241m.\u001b[39m\u001b[38;5;18m__name__\u001b[39m\u001b[38;5;132;01m}\u001b[39;00m\u001b[38;5;124m.Impl\u001b[39m\u001b[38;5;124m'\u001b[39m\n\u001b[0;32m--> 179\u001b[0m     \u001b[38;5;28;01massert\u001b[39;00m \u001b[38;5;28mself\u001b[39m\u001b[38;5;241m.\u001b[39mis_realizable(), \\\n\u001b[1;32m    180\u001b[0m         \u001b[38;5;124mf\u001b[39m\u001b[38;5;124m'\u001b[39m\u001b[38;5;124mCannot realize TLT, missing \u001b[39m\u001b[38;5;132;01m{\u001b[39;00m\u001b[38;5;28mlist\u001b[39m(\u001b[38;5;28mself\u001b[39m\u001b[38;5;241m.\u001b[39miter_free())\u001b[38;5;132;01m}\u001b[39;00m\u001b[38;5;124m'\u001b[39m\n\u001b[1;32m    181\u001b[0m     out \u001b[38;5;241m=\u001b[39m \u001b[38;5;28mself\u001b[39m\u001b[38;5;241m.\u001b[39m_builder(impl, \u001b[38;5;241m*\u001b[39m\u001b[38;5;241m*\u001b[39m\u001b[38;5;28mself\u001b[39m\u001b[38;5;241m.\u001b[39m_lmap)\n\u001b[1;32m    182\u001b[0m     \u001b[38;5;28;01mif\u001b[39;00m memoize:\n",
      "\u001b[0;31mAssertionError\u001b[0m: Cannot realize TLT, missing ['lhs']"
     ]
    }
   ],
   "source": [
    "print(TLT.construct(Empty()))\n",
    "empty = TLT.construct(Empty())\n",
    "foo = TLT.construct(And('lhs', Not(Empty())))\n",
    "bar = TLT.construct(foo, lhs=center)\n",
    "print('empty ', empty)\n",
    "print('center', center)\n",
    "print('foo   ', foo, foo._lmap)\n",
    "print('bar   ', bar, bar._lmap)\n",
    "bar.realize(impl)"
   ]
  }
 ],
 "metadata": {
  "kernelspec": {
   "display_name": "pyspect",
   "language": "python",
   "name": "python3"
  },
  "language_info": {
   "codemirror_mode": {
    "name": "ipython",
    "version": 3
   },
   "file_extension": ".py",
   "mimetype": "text/x-python",
   "name": "python",
   "nbconvert_exporter": "python",
   "pygments_lexer": "ipython3",
   "version": "3.8.18"
  }
 },
 "nbformat": 4,
 "nbformat_minor": 2
}
