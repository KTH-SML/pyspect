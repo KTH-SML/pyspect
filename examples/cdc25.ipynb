{
 "cells": [
  {
   "cell_type": "markdown",
   "metadata": {},
   "source": [
    "# Roundabout"
   ]
  },
  {
   "cell_type": "code",
   "execution_count": null,
   "metadata": {},
   "outputs": [],
   "source": [
    "from math import pi\n",
    "\n",
    "import numpy as np\n",
    "\n",
    "from pyspect import *\n",
    "from pyspect.langs.ltl import *\n",
    "\n",
    "TLT.select(ContinuousLTL)"
   ]
  },
  {
   "cell_type": "markdown",
   "metadata": {},
   "source": [
    "## Environment"
   ]
  },
  {
   "cell_type": "code",
   "execution_count": null,
   "metadata": {},
   "outputs": [],
   "source": [
    "## CONSTANTS ##\n",
    "\n",
    "LONVEL = (0.3, 0.6) # [m/s]\n",
    "LATVEL = (0, 0.2)   # [m/s]\n",
    "\n",
    "RBOUND = (0.8, 1.6) # [m]\n",
    "\n",
    "RI = 1.0    # [m]\n",
    "RM = 1.3    # [m]\n",
    "RO = 1.6    # [m]\n",
    "\n",
    "PHI_LOOKAHEAD = 2 # [rad]\n",
    "TIME_HORIZON = 2 # [s]; comp time horizon\n",
    "\n",
    "## TRAFFIC RULES ##\n",
    "\n",
    "lonspeed = BoundedSet(v_phi=LONVEL)\n",
    "latspeed = BoundedSet(v_r=LATVEL)\n",
    "\n",
    "## ROUNDABOUT ##\n",
    "\n",
    "lanes = And(BoundedSet(r=(RI, RO)), lonspeed, latspeed)\n",
    "\n",
    "inner = And(BoundedSet(r=(RI, RM)), lanes)\n",
    "outer = And(BoundedSet(r=(RM, RO)), lanes)\n",
    "\n",
    "## TASKS ##\n",
    "\n",
    "stay_inner = Until(inner, inner)\n",
    "stay_outer = Until(outer, outer)\n",
    "goto_inner = Until(lanes, inner)\n",
    "goto_outer = Until(lanes, outer)"
   ]
  },
  {
   "cell_type": "markdown",
   "metadata": {},
   "source": [
    "## Implementations"
   ]
  },
  {
   "cell_type": "code",
   "execution_count": null,
   "metadata": {},
   "outputs": [],
   "source": [
    "IMPL = 'HJ'\n",
    "\n",
    "if IMPL == 'HJ':\n",
    "\n",
    "    import hj_reachability as hj\n",
    "    from pyspect.impls.hj_reachability import TVHJImpl\n",
    "    from hj_reachability.systems import Bicycle5DCircular\n",
    "\n",
    "    dynamics = dict(cls=Bicycle5DCircular,\n",
    "                    min_steer=-pi/4, \n",
    "                    max_steer=+pi/4,\n",
    "                    min_accel=-0.4,\n",
    "                    max_accel=+0.4)\n",
    "\n",
    "    #                        r,                  phi,  v_r,  v_phi,   v_yaw\n",
    "    max_bounds = np.array([1.8,       +PHI_LOOKAHEAD, +0.1,  +0.7,   +pi/5])\n",
    "    min_bounds = np.array([0.8, 0.5 * -PHI_LOOKAHEAD, -0.1,  +0.3,   -pi/5])\n",
    "    grid = hj.Grid.from_lattice_parameters_and_boundary_conditions(hj.sets.Box(min_bounds, max_bounds),\n",
    "                                                                (11, 51, 5, 5, 5))\n",
    "\n",
    "    impl = TVHJImpl(dynamics, grid, TIME_HORIZON)\n",
    "    impl.set_axes_names('t', 'r', 'phi', 'v_r', 'v_phi', 'v_yaw')\n",
    "\n",
    "if IMPL == 'HZ':\n",
    "        \n",
    "    from hz_reachability.hz_impl import HZImpl\n",
    "    from hz_reachability.systems.cars import CircularBicycle5DLinearized\n",
    "\n",
    "    z0 = []\n",
    "    u0 = []\n",
    "    dynamics = CircularBicycle5DLinearized(z0, u0)\n",
    "    # space = \n",
    "    time_horizon = TIME_HORIZON\n",
    "    time_step = 0.2\n",
    "\n",
    "    impl = HZImpl(dynamics, space, time_horizon, time_step, show_intermediate=True)\n"
   ]
  },
  {
   "cell_type": "code",
   "execution_count": null,
   "metadata": {},
   "outputs": [],
   "source": [
    "from pyspect.plotting.levelsets import *\n",
    "\n",
    "# out, s = TLT(goto_outer).realize(impl)\n",
    "# print(s)\n",
    "\n",
    "terminal = Or(BoundedSet(t=(1.9, 2.1)),\n",
    "              And(lanes, BoundedSet(phi=(1.7, 2.1))))\n",
    "\n",
    "# Static obstacle\n",
    "OBS1 = BoundedSet(r=(RI, RM), phi=(1.0, 1.3))\n",
    "\n",
    "# Dynamic obstacle - reachF not supported by LTL so we use special hacks\n",
    "obs2 = BoundedSet(t=(0.5, 1.5), r=(RM, RO), phi=(0.3, 0.6))(impl)\n",
    "OBS2 = TLT(Set(\n",
    "    impl.project_onto(\n",
    "        impl.reachF(obs2, outer.realize(impl)),\n",
    "        0, 1, 2,\n",
    "        keepdims=True,\n",
    "    )\n",
    "))\n",
    "\n",
    "# task = Until(goto_outer, terminal)\n",
    "# task = Until(And(Not(OBS1), goto_outer), terminal)\n",
    "task = Until(And(Not(OBS1), Not(OBS2), goto_outer), terminal)\n",
    "\n",
    "tmp = OBS1(impl)\n",
    "tmp = impl.make_tube(tmp)\n",
    "\n",
    "out = task.realize(impl)\n",
    "out = impl.project_onto(out, 0, 1, 2)"
   ]
  },
  {
   "cell_type": "code",
   "execution_count": null,
   "metadata": {},
   "outputs": [],
   "source": [
    "\n",
    "# plot_levelsets(\n",
    "#     (impl.project_onto(OBS2.realize(impl), 0, 1, 2, union=False), {\"colorscale\": \"reds\"}),\n",
    "#     (impl.project_onto(tmp, 0, 1, 2, union=False), {\"colorscale\": \"reds\"}),\n",
    "#     # # (impl.project_onto(goto_outer.realize(impl), 0, 1, 2), {\"colorscale\": \"greys\"}),\n",
    "#     out,\n",
    "#     plot_func=plot3D_levelset, fig_theme='Light',\n",
    "#     min_bounds=[impl.timeline[ 0], *min_bounds[:2]],\n",
    "#     max_bounds=[impl.timeline[-1], *max_bounds[:2]],\n",
    "#     xtitle=\"x [m]\", ytitle=\"y [m]\",\n",
    "#     fig_width=500, fig_height=500,\n",
    "#     eye=EYE_MH_S,\n",
    "# ).show()\n",
    "\n",
    "plot2D_levelset(\n",
    "    # out[5],\n",
    "    impl.project_onto(impl.plane_cut(offset=[1.2], normal=[1.0], axes=[1]), 1, 2),\n",
    "    min_bounds=min_bounds[:2],\n",
    "    max_bounds=max_bounds[:2],\n",
    "    xtitle=\"x [m]\", ytitle=\"y [m]\",\n",
    "    fig_width=500, fig_height=500,\n",
    "\n",
    ").show()\n",
    "\n",
    "plot3D_valuefun(\n",
    "    out[5],\n",
    "    min_bounds=min_bounds[:2],\n",
    "    max_bounds=max_bounds[:2],\n",
    "    xtitle=\"x [m]\", ytitle=\"y [m]\",\n",
    "    fig_width=500, fig_height=500,\n",
    ").show()"
   ]
  }
 ],
 "metadata": {
  "kernelspec": {
   "display_name": "pyspect",
   "language": "python",
   "name": "python3"
  },
  "language_info": {
   "codemirror_mode": {
    "name": "ipython",
    "version": 3
   },
   "file_extension": ".py",
   "mimetype": "text/x-python",
   "name": "python",
   "nbconvert_exporter": "python",
   "pygments_lexer": "ipython3",
   "version": "3.12.7"
  }
 },
 "nbformat": 4,
 "nbformat_minor": 2
}
