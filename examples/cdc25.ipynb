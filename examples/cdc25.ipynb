{
 "cells": [
  {
   "cell_type": "markdown",
   "metadata": {},
   "source": [
    "# **Examples for CDC '25**"
   ]
  },
  {
   "cell_type": "markdown",
   "metadata": {},
   "source": [
    "## **Case Study: Overtaking Scenario**"
   ]
  },
  {
   "cell_type": "markdown",
   "metadata": {},
   "source": [
    "The running example from the paper, illustrating basic concepts in `pyspect`. The task is to verify an overtaking scenario."
   ]
  },
  {
   "cell_type": "markdown",
   "metadata": {},
   "source": [
    "### **Imports**"
   ]
  },
  {
   "cell_type": "code",
   "execution_count": null,
   "metadata": {},
   "outputs": [],
   "source": [
    "from math import pi\n",
    "from time import time\n",
    "from functools import reduce\n",
    "from contextlib import contextmanager\n",
    "from pyspect import *"
   ]
  },
  {
   "cell_type": "code",
   "execution_count": null,
   "metadata": {},
   "outputs": [],
   "source": [
    "@contextmanager\n",
    "def timectx(msgfunc):\n",
    "    \"\"\"Context manager to time a block of code.\"\"\"\n",
    "    start = time()\n",
    "    yield\n",
    "    end = time()\n",
    "    print(msgfunc(end-start))"
   ]
  },
  {
   "cell_type": "markdown",
   "metadata": {},
   "source": [
    "### **Hyperparameters**"
   ]
  },
  {
   "cell_type": "code",
   "execution_count": null,
   "metadata": {},
   "outputs": [],
   "source": [
    "AXES = [dict(name=  't', bounds=[     0,     15],   step=0.5, unit='s'),\n",
    "        dict(name=  'x', bounds=[     0,    200], points=201, unit='m'),\n",
    "        dict(name=  'y', bounds=[    -4,     +4], points= 15, unit='m'),\n",
    "        dict(name='yaw', bounds=[-pi/16, +pi/16], points= 13, unit='rad'), # pi/16 = 11.25deg\n",
    "        dict(name='vel', bounds=[    15,     30], points= 51, unit='m/s')] # 15 mps ~= 54 kmph | 35 mps ~= 125 kmph\n",
    "\n",
    "MAX_STEER = pi/64   # [rad/s]   +/- 2.8 degrees/s\n",
    "MAX_ACCEL = 3.5     # [mps2]"
   ]
  },
  {
   "cell_type": "markdown",
   "metadata": {},
   "source": [
    "### **Program**"
   ]
  },
  {
   "cell_type": "markdown",
   "metadata": {},
   "source": [
    "#### Task definition\n",
    "\n",
    "1. Define the different regions. These are \"constants\" in the task specification. Note that we can define the sets lazily, such that we do not rely on a specific implementation or set representation yet. This is possible because `pyspect` internally defers evaluation until realization time.\n",
    "\n",
    "2. Write the specification $\\varphi = \\varphi_\\text{env} \\:\\mathsf{U}\\: \\texttt{goal}$, where $\\varphi_\\text{env}, \\texttt{goal} \\in \\mathsf{AP}$. While $\\varphi_\\text{env} = ( \\neg p_\\text{obs} \\wedge ... )$ with $p_\\text{obs} \\in \\mathsf{AP}$, and $p_\\text{obs} \\leftrightarrow z \\in \\texttt{OBS}$, we directly use the set $\\texttt{OBS}$ in the specification. The proposition $\\texttt{goal}$ is left symbolic and will be bound later.\n",
    "\n",
    "**Note A.** This example uses `functools.reduce` to [_fold-left_](https://en.wikipedia.org/wiki/Fold_(higher-order_function)) binary operators (e.g. `AND`). This is simply to reduce the code length. In this example, the semantics allow for both left- and right-associative reduction (which is not necessarily true for all downstream applications).  By default, `pyspect` does not assume associativity for any of its operators.\n",
    "\n",
    "**Note B.** We define `OBS` in a funny way to make it easier to write `GOAL`. We want to describe the goal as \"in front of `OBS`-vehicle\", hence we need to know the front of `OBS`. When having this, it becomes shorter to (informally) define `OBS` such that `BEHIND_OBS < OBS < INFRONT_OBS`."
   ]
  },
  {
   "cell_type": "code",
   "execution_count": null,
   "metadata": {},
   "outputs": [],
   "source": [
    "## (1) Define the different regions.\n",
    "\n",
    "# All of the following objects are SetBuilder objects and will be propositions in later specs.\n",
    "\n",
    "RIGHT_LANE  = BoundedSet(y=(-3.5, -0.5))\n",
    "LEFT_LANE   = BoundedSet(y=(+0.5, +3.5))\n",
    "BETWEEN     = BoundedSet(y=(-1.5, +1.5))\n",
    "\n",
    "STRAIGHT = BoundedSet(yaw=(-pi/18, +pi/18))\n",
    "\n",
    "INFRONT_OBS = HalfSpaceSet(normal=[ +1, -16],\n",
    "                           offset=[ 40,   4],\n",
    "                           axes = ['x', 't'])\n",
    "\n",
    "BEHIND_OBS = HalfSpaceSet(normal=[ -1, +16],\n",
    "                          offset=[  0,   4],\n",
    "                          axes = ['x', 't'])\n",
    "\n",
    "# See Note B.\n",
    "OBS = reduce(Inter, [Compl(INFRONT_OBS), Compl(BEHIND_OBS), RIGHT_LANE])\n",
    "\n",
    "GOAL = reduce(Inter, [\n",
    "    INFRONT_OBS, \n",
    "    RIGHT_LANE,\n",
    "    STRAIGHT,\n",
    "    # NOTE: For stability of HJ solution, \n",
    "    #       target should not extend to domain boundary\n",
    "    BoundedSet(x=(..., 195)),\n",
    "])\n",
    "\n",
    "## (2) Write the specification.\n",
    "\n",
    "# All of the following objects are logical specifications.\n",
    "\n",
    "ENV = reduce(AND, [\n",
    "    reduce(OR, [\n",
    "        AND(RIGHT_LANE, STRAIGHT),\n",
    "        AND(LEFT_LANE, STRAIGHT),\n",
    "        BETWEEN,\n",
    "    ]),\n",
    "    NOT(OBS),\n",
    "    # NOTE: For stability of HJ solution, \n",
    "    #       target should not extend to domain boundary\n",
    "    BoundedSet(vel=(16, 24), yaw=(-pi/16 + pi/32, +pi/16 - pi/32)),\n",
    "])\n",
    "\n",
    "TASK = UNTIL(ENV, 'goal')"
   ]
  },
  {
   "cell_type": "markdown",
   "metadata": {},
   "source": [
    "#### Construct the TLT"
   ]
  },
  {
   "cell_type": "markdown",
   "metadata": {},
   "source": [
    "3. Select the set of primitive TLTs. This determines the logic fragment in which the specification is interpreted. In this example, we use continuous-time LTL, i.e., LTL without the \"next\" operator.\n",
    "\n",
    "4. Construct the temporal logic tree and bind the symbolic proposition $\\texttt{goal}$ to the concrete set $\\texttt{GOAL}$. The call to `.where(goal=GOAL)` updates a internal proposition map $\\mathsf{M}$ so that $\\texttt{goal} \\leftrightarrow z \\in \\texttt{GOAL}$."
   ]
  },
  {
   "cell_type": "code",
   "execution_count": null,
   "metadata": {},
   "outputs": [],
   "source": [
    "## (3) Select the set of primitive TLTs.\n",
    "\n",
    "TLT.select(ContLTL)\n",
    "\n",
    "## (4) Create the TLT and set the proposition 'goal'.\n",
    "\n",
    "objective = TLT(TASK, where={'goal': GOAL})"
   ]
  },
  {
   "cell_type": "markdown",
   "metadata": {},
   "source": [
    "#### Initialize the implementation object"
   ]
  },
  {
   "cell_type": "markdown",
   "metadata": {},
   "source": [
    "First now, we introduce a specific implementation. `pyspect` has some off-the-shelf implementations that can be imported. Note, however, `pyspect` does not abstract _away_ the underlying back-end completely, as we see in the following cell.\n",
    "\n",
    "5. Additional imports for the specific implementation. `TVHJImpl` is a wrapper class around the `hj_reachability` library. `pyspect` includes a forked version with convenience utilities.\n",
    "\n",
    "6. Initialization of the implementation is fully backend-specific. In this case, we specify the dynamics (double integrator), bounds, time horizon, and discretization. This configuration determines how sets like `GOAL` and operators like `UNTIL` will be computed (e.g., using backward reachable sets on a grid).\n",
    "\n",
    "7. Realize the TLT. This is the key step where the temporal logic and reachability analysis meet: `objective.realize(impl)` recursively applies the reachability and set operations defined by the selected logic fragment and implemented in the backend. The output `out` is the satisfaction set (i.e., the states from which the specification holds) in the implementation's set reprentation. \n",
    "\n",
    "8. Plotting. We visualize the satisfaction set using `HJImpl.plot`, which displays the reachable states as a level set over position, velocity, and time. This step is backend-dependent (as value functions are used)."
   ]
  },
  {
   "cell_type": "code",
   "execution_count": null,
   "metadata": {},
   "outputs": [],
   "source": [
    "## (5) Additional imports for the specific implementation.\n",
    "\n",
    "from pyspect.impls.hj_reachability import TVHJImpl\n",
    "\n",
    "from pyspect.systems.hj_reachability import *\n",
    "\n",
    "## (6) Define the implementation of the reachability algorithm.\n",
    "\n",
    "dynamics = dict(cls=Bicycle4D,\n",
    "                wheelbase=2.7,\n",
    "                min_accel=-MAX_ACCEL,\n",
    "                max_accel=+MAX_ACCEL,\n",
    "                min_steer=-MAX_STEER,\n",
    "                max_steer=+MAX_STEER)\n",
    "\n",
    "impl = TVHJImpl(dynamics, AXES)\n",
    "\n",
    "## (7) Run the reachability program ##\n",
    "\n",
    "with timectx(lambda t: f\"Realization with HJ took {t:.2f} seconds\"):\n",
    "    out = objective.realize(impl)\n",
    "\n",
    "# `out` will have the same object type that `impl` operates with.\n",
    "# For TVHJImpl, `out` will be a numpy array of the gridded value function.\n",
    "print(f\"{type(out) = }, {out.min() = }, {out.max() = }\")\n",
    "\n",
    "## (8) Plotting\n",
    "\n",
    "# Generate levelset for the other vehicle.\n",
    "obs = OBS(impl)\n",
    "print(f\"{obs.min() = }, {obs.max() = }\")\n",
    "\n",
    "# NOTE: We remove a small margin for plotting (clearer boundary/separation from obs).\n",
    "out = out + 0.03\n",
    "\n",
    "impl.plot(\n",
    "    out,\n",
    "    (obs, dict(colorscale='reds')),\n",
    "    axes=('x', 'y', 't'),\n",
    "    camera_eye=impl.PLOT.EYE_ML_SW,\n",
    "    camera_center=dict(x=.9, y=.9, z=-.8),\n",
    "    layout_margin=dict(t=40, r=0, l=0, b=0),\n",
    ").show()"
   ]
  },
  {
   "cell_type": "code",
   "execution_count": null,
   "metadata": {},
   "outputs": [],
   "source": [
    "for t in [6., 8., 10., 12.]:\n",
    "    impl.plot(\n",
    "        out,\n",
    "        (obs, dict(colorscale='reds')),\n",
    "        method='bitmap',\n",
    "        axes=('x', 'y'),\n",
    "        transform_select=[('t', t)],\n",
    "        layout_height=300,\n",
    "        layout_width=600,\n",
    "        layout_title=f'At Time: {t = }',\n",
    "    ).show()"
   ]
  },
  {
   "cell_type": "markdown",
   "metadata": {},
   "source": [
    "## **Specification: $\\square \\psi$**"
   ]
  },
  {
   "cell_type": "markdown",
   "metadata": {},
   "source": [
    "This specification requires the system to remain within a safe region $\\psi$ for the entire time horizon. It encodes an invariance property, meaning the condition $\\psi$ must hold at all times. The HJ backend realizes this using an avoid set computed via universal control, solving $\\Box \\psi$ as a special case of $\\neg \\Diamond \\neg \\psi$, while the HZ backend uses a fixed-point formulation, i.e. $\\psi \\land \\bigcirc(\\psi \\land \\bigcirc(\\dots))$. Both methods result a valid set of initial states from which the system can always satisfy $\\psi$ throughout the trajectory."
   ]
  },
  {
   "cell_type": "markdown",
   "metadata": {},
   "source": [
    "### **Imports**"
   ]
  },
  {
   "cell_type": "code",
   "execution_count": null,
   "metadata": {},
   "outputs": [],
   "source": [
    "# Implementation independent\n",
    "\n",
    "from time import time\n",
    "from contextlib import contextmanager\n",
    "from tqdm import tqdm\n",
    "\n",
    "from pyspect import *\n",
    "\n",
    "# HJ specific\n",
    "\n",
    "from pyspect.impls.hj_reachability import TVHJImpl\n",
    "from pyspect.systems.hj_reachability import DoubleIntegrator as HJDoubleIntegrator\n",
    "from pyspect.plotting.levelsets import *\n",
    "\n",
    "# HZ specific\n",
    "\n",
    "from pyspect.plotting.zonotopes import _hz2hj\n",
    "\n",
    "from hz_reachability.hz_impl import TVHZImpl\n",
    "from hz_reachability.systems.cars import *\n",
    "from hz_reachability.systems.integrators import DoubleIntegrator as HZDoubleIntegrator\n",
    "from hz_reachability.spaces import EmptySpace"
   ]
  },
  {
   "cell_type": "code",
   "execution_count": null,
   "metadata": {},
   "outputs": [],
   "source": [
    "@contextmanager\n",
    "def timectx(msgfunc):\n",
    "    \"\"\"Context manager to time a block of code.\"\"\"\n",
    "    start = time()\n",
    "    yield\n",
    "    end = time()\n",
    "    print(msgfunc(end-start))\n",
    "\n",
    "def print_hzinfo(hz):\n",
    "    if isinstance(hz, list):\n",
    "        nz, ng, nb, nc = \\\n",
    "            np.array([[_out.dim, _out.ng, _out.nb, _out.nc]\n",
    "                    for _out in hz]).max(axis=0)\n",
    "    else:\n",
    "        nz,ng,nb,nc = hz.dim, hz.ng, hz.nb, hz.nc\n",
    "    print(f\"nz: {nz}, ng: {ng}, nb: {nb}, nc: {nc}\")"
   ]
  },
  {
   "cell_type": "markdown",
   "metadata": {},
   "source": [
    "### **Hyperparameters**"
   ]
  },
  {
   "cell_type": "code",
   "execution_count": null,
   "metadata": {},
   "outputs": [],
   "source": [
    "AXES = [dict(name='t', bounds=[   0,   40],   step=0.5, unit='s'),\n",
    "        dict(name='x', bounds=[-100, +100], points= 91, unit='m'),\n",
    "        dict(name='v', bounds=[ -20,  +20], points= 91, unit='m/s')]\n",
    "\n",
    "MAX_ACCEL = 1.0     # [mps2]\n",
    "\n",
    "# HZ2HJ specific\n",
    "TIME_STEP = AXES[0]['step']\n",
    "TIME_HORIZON = AXES[0]['bounds'][1]\n",
    "MIN_BOUNDS = [spec['bounds'][0] for spec in AXES if spec['name'] != 't']\n",
    "MAX_BOUNDS = [spec['bounds'][1] for spec in AXES if spec['name'] != 't']\n",
    "GRID_SHAPE = [spec['points'] for spec in AXES if spec['name'] != 't']"
   ]
  },
  {
   "cell_type": "markdown",
   "metadata": {},
   "source": [
    "### **Program**"
   ]
  },
  {
   "cell_type": "code",
   "execution_count": null,
   "metadata": {},
   "outputs": [],
   "source": [
    "## SPECIFICATION\n",
    "\n",
    "T = BoundedSet(x=(-50,  +50))\n",
    "\n",
    "phi = ALWAYS(T)"
   ]
  },
  {
   "cell_type": "markdown",
   "metadata": {},
   "source": [
    "#### Two interpretations of ALWAYS"
   ]
  },
  {
   "cell_type": "code",
   "execution_count": null,
   "metadata": {},
   "outputs": [],
   "source": [
    "# Define ALWAYS through RCI set (relating to ¬◇¬ψ)\n",
    "\n",
    "@primitive(ALWAYS('_1'))\n",
    "def Always_rci(_1: 'TLTLike') -> tuple[SetBuilder, APPROXDIR]:\n",
    "    b1, a1 = _1._builder, _1._approx\n",
    "\n",
    "    ao = APPROXDIR.UNDER\n",
    "    return (\n",
    "        AppliedSet('rci', b1),\n",
    "        ao + a1 if ao * a1 == APPROXDIR.EXACT else \n",
    "        a1      if ao == a1 else\n",
    "        APPROXDIR.INVALID,\n",
    "    )\n",
    "\n",
    "# Define Always through fixed-point iteration\n",
    "\n",
    "@primitive(ALWAYS('_1'))\n",
    "def Always_fp(_1: 'TLTLike') -> tuple[SetBuilder, APPROXDIR]:\n",
    "\n",
    "    N = int(TIME_HORIZON / TIME_STEP)\n",
    "\n",
    "    phi = 'psi'\n",
    "    for _ in range(N-1):\n",
    "        phi = AND('psi', NEXT(phi))\n",
    "\n",
    "    tree = TLT(phi, where={'psi': _1})\n",
    "    return (tree._builder, tree._approx)"
   ]
  },
  {
   "cell_type": "markdown",
   "metadata": {},
   "source": [
    "#### HJ Implementation"
   ]
  },
  {
   "cell_type": "code",
   "execution_count": null,
   "metadata": {},
   "outputs": [],
   "source": [
    "## CONSTRUCT TLT\n",
    "\n",
    "TLT.select(ContLTL | Always_rci)\n",
    "\n",
    "tree = TLT(phi)\n",
    "\n",
    "print(f\"Approximation direction: {tree._approx = }\")\n",
    "\n",
    "## INITIALIZE IMPLEMENTATION\n",
    "\n",
    "dynamics = dict(cls=HJDoubleIntegrator,\n",
    "                min_accel=-MAX_ACCEL,\n",
    "                max_accel=+MAX_ACCEL)\n",
    "\n",
    "impl = TVHJImpl(dynamics, AXES)\n",
    "\n",
    "## REALIZE ROOT NODE OF TLT\n",
    "\n",
    "with timectx(lambda t: f\"Realization with HJ took {t:.2f} seconds\"):\n",
    "    out = tree.realize(impl)\n",
    "\n",
    "print(f\"{type(out) = }\")\n",
    "\n",
    "## PLOT\n",
    "\n",
    "impl.plot(\n",
    "    out,\n",
    "    axes=('x', 'v', 't'),\n",
    "    colorscale='greens',\n",
    "    camera_eye=impl.PLOT.EYE_MH_W,\n",
    ")"
   ]
  },
  {
   "cell_type": "markdown",
   "metadata": {},
   "source": [
    "#### HZ Implementation"
   ]
  },
  {
   "cell_type": "code",
   "execution_count": null,
   "metadata": {},
   "outputs": [],
   "source": [
    "## CONSTRUCT TLT\n",
    "\n",
    "TLT.select(DiscLTL | Always_fp)\n",
    "\n",
    "tree = TLT(phi)\n",
    "\n",
    "print(f\"Approximation direction: {tree._approx = }\")\n",
    "\n",
    "## INITIALIZE IMPLEMENTATION\n",
    "\n",
    "space = EmptySpace(MIN_BOUNDS, MAX_BOUNDS)\n",
    "\n",
    "dynamics = HZDoubleIntegrator(max_accel=MAX_ACCEL, dt=TIME_STEP)\n",
    "\n",
    "impl = TVHZImpl(dynamics, space, AXES)\n",
    "# impl.enable_reduce = True\n",
    "\n",
    "## REALIZE ROOT NODE OF TLT\n",
    "\n",
    "with timectx(lambda t: f\"Realization with HZ took {t:.2f} seconds\"):\n",
    "    out = tree.realize(impl)\n",
    "\n",
    "print(f\"{type(out) = }\")\n",
    "print_hzinfo(out)\n",
    "\n",
    "## Plot\n",
    "\n",
    "if not isinstance(out, list):\n",
    "    vf = np.array([_hz2hj(out, MIN_BOUNDS, MAX_BOUNDS, GRID_SHAPE)] * impl.N)\n",
    "else:\n",
    "    vf = np.array([_hz2hj(_out, MIN_BOUNDS, MAX_BOUNDS, GRID_SHAPE) for _out in tqdm(out)])\n",
    "\n",
    "plot3D_levelset(\n",
    "    vf,\n",
    "    min_bounds=[           0, *MIN_BOUNDS],\n",
    "    max_bounds=[TIME_HORIZON, *MAX_BOUNDS],\n",
    "    xtitle='Position (m)',\n",
    "    ytitle='Velocity (m/s)',\n",
    "    colorscale='blues',\n",
    "    camera_eye=EYE_MH_W,\n",
    ")"
   ]
  },
  {
   "cell_type": "markdown",
   "metadata": {},
   "source": [
    "## **Specification: $\\square \\lozenge \\psi$**"
   ]
  },
  {
   "cell_type": "markdown",
   "metadata": {},
   "source": [
    "This specification ensures that the system can reach $\\psi$ infinitely often, i.e., $\\psi$ must remain recurrently reachable throughout the time horizon. Formally, it is a liveness property requiring that at every point in time, it is possible to reach a state satisfying $\\psi$ in the future. The HJ backend supports this through nested reachability using negation and disjunction (e.g., $\\Box \\Diamond \\psi = \\neg \\Diamond \\neg \\Diamond \\psi$). However, HZ implementations typically cannot soundly support this due to approximation mismatches may violate the logical semantics when doing the fixed-point iteration. In response, pyspect flags and rejects this combination."
   ]
  },
  {
   "cell_type": "markdown",
   "metadata": {},
   "source": [
    "### **Imports**"
   ]
  },
  {
   "cell_type": "code",
   "execution_count": null,
   "metadata": {},
   "outputs": [],
   "source": [
    "# Implementation independent\n",
    "\n",
    "from time import time\n",
    "from contextlib import contextmanager\n",
    "from tqdm import tqdm\n",
    "\n",
    "from pyspect import *\n",
    "\n",
    "# HJ specific\n",
    "\n",
    "from pyspect.impls.hj_reachability import TVHJImpl\n",
    "from pyspect.systems.hj_reachability import DoubleIntegrator as HJDoubleIntegrator\n",
    "from pyspect.plotting.levelsets import *\n",
    "\n",
    "# HZ specific\n",
    "\n",
    "from pyspect.plotting.zonotopes import _hz2hj\n",
    "\n",
    "from hz_reachability.hz_impl import TVHZImpl\n",
    "from hz_reachability.systems.cars import *\n",
    "from hz_reachability.systems.integrators import DoubleIntegrator as HZDoubleIntegrator\n",
    "from hz_reachability.spaces import EmptySpace"
   ]
  },
  {
   "cell_type": "code",
   "execution_count": null,
   "metadata": {},
   "outputs": [],
   "source": [
    "@contextmanager\n",
    "def timectx(msgfunc):\n",
    "    \"\"\"Context manager to time a block of code.\"\"\"\n",
    "    start = time()\n",
    "    yield\n",
    "    end = time()\n",
    "    print(msgfunc(end-start))\n",
    "\n",
    "def print_hzinfo(hz):\n",
    "    if isinstance(hz, list):\n",
    "        nz, ng, nb, nc = \\\n",
    "            np.array([[_out.dim, _out.ng, _out.nb, _out.nc]\n",
    "                    for _out in hz]).max(axis=0)\n",
    "    else:\n",
    "        nz,ng,nb,nc = hz.dim, hz.ng, hz.nb, hz.nc\n",
    "    print(f\"nz: {nz}, ng: {ng}, nb: {nb}, nc: {nc}\")"
   ]
  },
  {
   "cell_type": "markdown",
   "metadata": {},
   "source": [
    "### **Hyperparameters**"
   ]
  },
  {
   "cell_type": "code",
   "execution_count": null,
   "metadata": {},
   "outputs": [],
   "source": [
    "AXES = [dict(name='t', bounds=[   0,   40],   step=0.5, unit='s'),\n",
    "        dict(name='x', bounds=[-100, +100], points= 91, unit='m'),\n",
    "        dict(name='v', bounds=[ -20,  +20], points= 91, unit='m/s')]\n",
    "\n",
    "MAX_ACCEL = 1.0     # [mps2]\n",
    "\n",
    "# HZ2HJ specific\n",
    "TIME_STEP = AXES[0]['step']\n",
    "TIME_HORIZON = AXES[0]['bounds'][1]\n",
    "MIN_BOUNDS = [spec['bounds'][0] for spec in AXES if spec['name'] != 't']\n",
    "MAX_BOUNDS = [spec['bounds'][1] for spec in AXES if spec['name'] != 't']\n",
    "GRID_SHAPE = [spec['points'] for spec in AXES if spec['name'] != 't']"
   ]
  },
  {
   "cell_type": "markdown",
   "metadata": {},
   "source": [
    "### **Program**"
   ]
  },
  {
   "cell_type": "code",
   "execution_count": null,
   "metadata": {},
   "outputs": [],
   "source": [
    "## SPECIFICATION\n",
    "\n",
    "T = BoundedSet(x=(-50,  +50))\n",
    "\n",
    "phi = ALWAYS(EVENTUALLY(T))"
   ]
  },
  {
   "cell_type": "markdown",
   "metadata": {},
   "source": [
    "#### Two interpretations of ALWAYS"
   ]
  },
  {
   "cell_type": "code",
   "execution_count": null,
   "metadata": {},
   "outputs": [],
   "source": [
    "# Define ALWAYS through RCI set (relating to ¬◇¬ψ)\n",
    "\n",
    "@primitive(ALWAYS('_1'))\n",
    "def Always_rci(_1: 'TLTLike') -> tuple[SetBuilder, APPROXDIR]:\n",
    "    b1, a1 = _1._builder, _1._approx\n",
    "\n",
    "    ao = APPROXDIR.UNDER\n",
    "    return (\n",
    "        AppliedSet('rci', b1),\n",
    "        ao + a1 if ao * a1 == APPROXDIR.EXACT else \n",
    "        a1      if ao == a1 else\n",
    "        APPROXDIR.INVALID,\n",
    "    )\n",
    "\n",
    "# Define Always through fixed-point iteration\n",
    "\n",
    "@primitive(ALWAYS('_1'))\n",
    "def Always_fp(_1: 'TLTLike') -> tuple[SetBuilder, APPROXDIR]:\n",
    "\n",
    "    N = int(TIME_HORIZON / TIME_STEP)\n",
    "\n",
    "    phi = 'psi'\n",
    "    for _ in range(N-1):\n",
    "        phi = AND('psi', NEXT(phi))\n",
    "\n",
    "    tree = TLT(phi, where={'psi': _1})\n",
    "    return (tree._builder, tree._approx)"
   ]
  },
  {
   "cell_type": "markdown",
   "metadata": {},
   "source": [
    "#### HJ Implementation"
   ]
  },
  {
   "cell_type": "code",
   "execution_count": null,
   "metadata": {},
   "outputs": [],
   "source": [
    "## CONSTRUCT TLT\n",
    "\n",
    "TLT.select(ContLTL | Always_rci)\n",
    "tree = TLT(phi)\n",
    "\n",
    "## INITIALIZE IMPLEMENTATION\n",
    "\n",
    "dynamics = dict(cls=HJDoubleIntegrator,\n",
    "                min_accel=-MAX_ACCEL,\n",
    "                max_accel=+MAX_ACCEL)\n",
    "\n",
    "impl = TVHJImpl(dynamics, AXES)\n",
    "\n",
    "## REALIZE ROOT NODE OF TLT\n",
    "\n",
    "with timectx(lambda t: f\"Realization with HJ took {t:.2f} seconds\"):\n",
    "    out = tree.realize(impl)\n",
    "\n",
    "## Plot\n",
    "\n",
    "impl.plot(\n",
    "    out,\n",
    "    axes=('x', 'v', 't'),\n",
    "    colorscale='greens',\n",
    "    camera_eye=impl.PLOT.EYE_MH_W,\n",
    ")"
   ]
  },
  {
   "cell_type": "markdown",
   "metadata": {},
   "source": [
    "#### HZ Implementation"
   ]
  },
  {
   "cell_type": "code",
   "execution_count": null,
   "metadata": {},
   "outputs": [],
   "source": [
    "## CONSTRUCT TLT\n",
    "\n",
    "TLT.select(DiscLTL | Always_fp)\n",
    "tree = TLT(phi)\n",
    "\n",
    "## INITIALIZE IMPLEMENTATION\n",
    "\n",
    "space = EmptySpace(MIN_BOUNDS, MAX_BOUNDS)\n",
    "\n",
    "dynamics = HZDoubleIntegrator(max_accel=MAX_ACCEL, dt=TIME_STEP)\n",
    "\n",
    "impl = TVHZImpl(dynamics, space, AXES)\n",
    "# impl.enable_reduce = True\n",
    "\n",
    "## REALIZE ROOT NODE OF TLT\n",
    "\n",
    "with timectx(lambda t: f\"Realization with HZ took {t:.2f} seconds\"):\n",
    "    out = tree.realize(impl) # NOTE: Fails due to invalid approximation direction!\n",
    "\n",
    "print_hzinfo(out)\n",
    "\n",
    "## Plot\n",
    "\n",
    "if not isinstance(out, list):\n",
    "    vf = np.array([_hz2hj(out, MIN_BOUNDS, MAX_BOUNDS, GRID_SHAPE)] * impl.N)\n",
    "else:\n",
    "    vf = np.array([_hz2hj(_out, MIN_BOUNDS, MAX_BOUNDS, GRID_SHAPE) for _out in tqdm(out)])\n",
    "\n",
    "plot3D_levelset(\n",
    "    vf,\n",
    "    min_bounds=[           0, *MIN_BOUNDS],\n",
    "    max_bounds=[TIME_HORIZON, *MAX_BOUNDS],\n",
    "    xtitle='Position (m)',\n",
    "    ytitle='Velocity (m/s)',\n",
    "    colorscale='blues',\n",
    "    camera_eye=EYE_MH_W,\n",
    ")"
   ]
  }
 ],
 "metadata": {
  "kernelspec": {
   "display_name": "jax",
   "language": "python",
   "name": "python3"
  },
  "language_info": {
   "codemirror_mode": {
    "name": "ipython",
    "version": 3
   },
   "file_extension": ".py",
   "mimetype": "text/x-python",
   "name": "python",
   "nbconvert_exporter": "python",
   "pygments_lexer": "ipython3",
   "version": "3.12.1"
  }
 },
 "nbformat": 4,
 "nbformat_minor": 2
}
