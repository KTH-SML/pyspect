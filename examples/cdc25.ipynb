{
 "cells": [
  {
   "cell_type": "markdown",
   "metadata": {},
   "source": [
    "# **Examples for CDC '25**"
   ]
  },
  {
   "cell_type": "markdown",
   "metadata": {},
   "source": [
    "## **Code Example**"
   ]
  },
  {
   "cell_type": "markdown",
   "metadata": {},
   "source": [
    "### **Imports**"
   ]
  },
  {
   "cell_type": "code",
   "execution_count": null,
   "metadata": {},
   "outputs": [],
   "source": [
    "from pyspect import *\n",
    "from pyspect.set_builder import *\n",
    "from pyspect.primitives.ltl import *"
   ]
  },
  {
   "cell_type": "markdown",
   "metadata": {},
   "source": [
    "### **Hyperparameters**"
   ]
  },
  {
   "cell_type": "code",
   "execution_count": null,
   "metadata": {},
   "outputs": [],
   "source": [
    "AXIS_NAMES = ['x', 'v'] # [m, m/s]\n",
    "MAX_BOUNDS = [750,  30] # 500m, 30 mps ~= 110 kmph\n",
    "MIN_BOUNDS = [  0,   0] #   0m,  0 mps\n",
    "GRID_SHAPE = ( 91,  91)\n",
    "\n",
    "MAX_ACCEL = 1.0     # [mps2]\n",
    "TIME_STEP = 0.5     # [s]\n",
    "TIME_HORIZON = 40   # [s]"
   ]
  },
  {
   "cell_type": "markdown",
   "metadata": {},
   "source": [
    "### **Program**"
   ]
  },
  {
   "cell_type": "markdown",
   "metadata": {},
   "source": [
    "#### Task definition\n",
    "\n",
    "1. Define the different regions. These can be are \"constants\" in the task specification.\n",
    "2. Write the specification $\\varphi = (p_\\text{hw} \\lor p_\\text{r}) \\:\\mathsf{U}\\: \\verb|home|$, where $p_\\text{hw}, p_\\text{r}, \\verb|home| \\in \\mathsf{AP}$. While $p_\\text{hw} \\leftrightarrow z \\in \\verb|HIGHWAY|$ and $p_\\text{r} \\leftrightarrow z \\in \\verb|RESIDENTIAL|$, the proposition $\\verb|home|$ is implicit since we have not yet defined where \"home\" is. For the explicit propositions $p_\\text{hw}$ and $p_\\text{r}$, we simply use their corresponding sets in the specification in their stead."
   ]
  },
  {
   "cell_type": "code",
   "execution_count": null,
   "metadata": {},
   "outputs": [],
   "source": [
    "# (1) Define the different regions.\n",
    "\n",
    "HIGHWAY     = Union(BoundedSet(x=(..., 400), v=(15, ...)),   # highway\n",
    "                    BoundedSet(x=(300, 420), v=(10,  20)))   # offramp\n",
    "RESIDENTIAL = BoundedSet(x=(400, ...), v=( 5, 20))           # residential\n",
    "\n",
    "# (2) Write the specification.\n",
    "\n",
    "CITY = OR(HIGHWAY, RESIDENTIAL) # Use sets in place of propositions\n",
    "TASK = UNTIL(CITY, 'home')"
   ]
  },
  {
   "cell_type": "markdown",
   "metadata": {},
   "source": [
    "#### Construct the TLT"
   ]
  },
  {
   "cell_type": "code",
   "execution_count": null,
   "metadata": {},
   "outputs": [],
   "source": [
    "# Select the set of primitive TLTs \n",
    "# This, in de facto, determines the language\n",
    "TLT.select(ContinuousLTL)\n",
    "\n",
    "# Define the home region (implicit/variable in TASK).\n",
    "H = BoundedSet(x=(700, 749), v=(1,  7), t=(TIME_HORIZON-2, ...))\n",
    "\n",
    "# Create the TLT and set the proposition 'home'\n",
    "objective = TLT(TASK).where(home=H)"
   ]
  },
  {
   "cell_type": "markdown",
   "metadata": {},
   "source": [
    "#### Initialize the implementation object"
   ]
  },
  {
   "cell_type": "code",
   "execution_count": null,
   "metadata": {},
   "outputs": [],
   "source": [
    "from pyspect.impls.hj_reachability import TVHJImpl\n",
    "from pyspect.plotting.levelsets import *\n",
    "\n",
    "import hj_reachability as hj\n",
    "from hj_reachability.systems import *\n",
    "\n",
    "dynamics = dict(cls=DoubleIntegrator,\n",
    "                min_accel=-MAX_ACCEL,\n",
    "                max_accel=+MAX_ACCEL)\n",
    "\n",
    "impl = TVHJImpl(dynamics, \n",
    "                AXIS_NAMES,\n",
    "                MIN_BOUNDS,\n",
    "                MAX_BOUNDS,\n",
    "                GRID_SHAPE,\n",
    "                TIME_HORIZON,\n",
    "                time_step=TIME_STEP)\n",
    "\n",
    "## Run the reachability program\n",
    "\n",
    "# `out` will have the same object type that `impl` operates with.\n",
    "# For HJImpl(...), `out` will be a numpy arrays containing the gridded value function.\n",
    "out = objective.realize(impl)\n",
    "\n",
    "## Plot\n",
    "\n",
    "plot3D_levelset(\n",
    "    out,\n",
    "    min_bounds=[           0, *MIN_BOUNDS],\n",
    "    max_bounds=[TIME_HORIZON, *MAX_BOUNDS],\n",
    "    xtitle='Position (m)',\n",
    "    ytitle='Velocity (m/s)',\n",
    "    eye=EYE_MH_W,\n",
    ")"
   ]
  },
  {
   "cell_type": "markdown",
   "metadata": {},
   "source": [
    "## **Specification: $\\square \\psi$**"
   ]
  },
  {
   "cell_type": "markdown",
   "metadata": {},
   "source": [
    "### **Imports**"
   ]
  },
  {
   "cell_type": "code",
   "execution_count": null,
   "metadata": {},
   "outputs": [],
   "source": [
    "# Implementation independent\n",
    "\n",
    "from time import time\n",
    "from contextlib import contextmanager\n",
    "from tqdm import tqdm\n",
    "\n",
    "from pyspect import *\n",
    "from pyspect.set_builder import *\n",
    "from pyspect.primitives.ltl import *\n",
    "\n",
    "# HJ specific\n",
    "\n",
    "from pyspect.impls.hj_reachability import TVHJImpl\n",
    "from pyspect.plotting.levelsets import *\n",
    "\n",
    "import hj_reachability as hj\n",
    "from hj_reachability.systems import DoubleIntegrator as HJDoubleIntegrator\n",
    "\n",
    "# HZ specific\n",
    "\n",
    "from pyspect.plotting.zonotopes import _hz2hj\n",
    "\n",
    "from hz_reachability.hz_impl import TVHZImpl\n",
    "from hz_reachability.systems.cars import *\n",
    "from hz_reachability.systems.integrators import DoubleIntegrator as HZDoubleIntegrator\n",
    "from hz_reachability.spaces import EmptySpace"
   ]
  },
  {
   "cell_type": "code",
   "execution_count": null,
   "metadata": {},
   "outputs": [],
   "source": [
    "@contextmanager\n",
    "def timectx(msgfunc):\n",
    "    \"\"\"Context manager to time a block of code.\"\"\"\n",
    "    start = time()\n",
    "    yield\n",
    "    end = time()\n",
    "    print(msgfunc(end-start))\n",
    "\n",
    "def print_hzinfo(hz):\n",
    "    if isinstance(hz, list):\n",
    "        nz, ng, nb, nc = \\\n",
    "            np.array([[_out.dim, _out.ng, _out.nb, _out.nc]\n",
    "                    for _out in hz]).max(axis=0)\n",
    "    else:\n",
    "        nz,ng,nb,nc = hz.dim, hz.ng, hz.nb, hz.nc\n",
    "    print(f\"nz: {nz}, ng: {ng}, nb: {nb}, nc: {nc}\")"
   ]
  },
  {
   "cell_type": "markdown",
   "metadata": {},
   "source": [
    "### **Hyperparameters**"
   ]
  },
  {
   "cell_type": "code",
   "execution_count": null,
   "metadata": {},
   "outputs": [],
   "source": [
    "AXIS_NAMES = ['x',  'v'] # [m, m/s]\n",
    "MAX_BOUNDS = [+100, +20] # 500m, 30 mps ~= 110 kmph\n",
    "MIN_BOUNDS = [-100, -20] #   0m,  0 mps\n",
    "GRID_SHAPE = (  91,  91)\n",
    "\n",
    "MAX_ACCEL = 1.0     # [mps2]\n",
    "TIME_STEP = 0.5     # [s]\n",
    "TIME_HORIZON = 40   # [s]"
   ]
  },
  {
   "cell_type": "markdown",
   "metadata": {},
   "source": [
    "### **Program**"
   ]
  },
  {
   "cell_type": "code",
   "execution_count": null,
   "metadata": {},
   "outputs": [],
   "source": [
    "## SPECIFICATION\n",
    "\n",
    "T = BoundedSet(x=(-50,  +50))\n",
    "\n",
    "phi = ALWAYS(T)\n",
    "\n",
    "## CONSTRUCT TLT\n",
    "\n",
    "TLT.select(ContinuousLTL)\n",
    "tree = TLT(phi)"
   ]
  },
  {
   "cell_type": "markdown",
   "metadata": {},
   "source": [
    "#### HJ Implementation"
   ]
  },
  {
   "cell_type": "code",
   "execution_count": null,
   "metadata": {},
   "outputs": [],
   "source": [
    "dynamics = dict(cls=HJDoubleIntegrator,\n",
    "                min_accel=-MAX_ACCEL,\n",
    "                max_accel=+MAX_ACCEL)\n",
    "\n",
    "impl = TVHJImpl(dynamics, \n",
    "                AXIS_NAMES,\n",
    "                MIN_BOUNDS,\n",
    "                MAX_BOUNDS,\n",
    "                GRID_SHAPE,\n",
    "                TIME_HORIZON,\n",
    "                time_step=TIME_STEP)\n",
    "\n",
    "with timectx(lambda t: f\"Realization with HJ took {t:.2f} seconds\"):\n",
    "    out = tree.realize(impl)\n",
    "\n",
    "## Plot\n",
    "\n",
    "plot3D_levelset(\n",
    "    out,\n",
    "    min_bounds=[           0, *MIN_BOUNDS],\n",
    "    max_bounds=[TIME_HORIZON, *MAX_BOUNDS],\n",
    "    xtitle='Position (m)',\n",
    "    ytitle='Velocity (m/s)',\n",
    "    colorscale='greens',\n",
    "    eye=EYE_MH_W,\n",
    ")"
   ]
  },
  {
   "cell_type": "markdown",
   "metadata": {},
   "source": [
    "#### HZ Implementation"
   ]
  },
  {
   "cell_type": "code",
   "execution_count": null,
   "metadata": {},
   "outputs": [],
   "source": [
    "space = EmptySpace(MIN_BOUNDS, MAX_BOUNDS)\n",
    "\n",
    "dynamics = HZDoubleIntegrator(max_accel=MAX_ACCEL, dt=TIME_STEP)\n",
    "\n",
    "impl = TVHZImpl(dynamics, space, AXIS_NAMES, time_horizon=TIME_HORIZON, time_step=TIME_STEP)\n",
    "# impl.enable_reduce = True\n",
    "\n",
    "with timectx(lambda t: f\"Realization with HZ took {t:.2f} seconds\"):\n",
    "    out = tree.realize(impl)\n",
    "\n",
    "print_hzinfo(out)\n",
    "\n",
    "## Plot\n",
    "\n",
    "if not isinstance(out, list):\n",
    "    vf = np.array([_hz2hj(out, MIN_BOUNDS, MAX_BOUNDS, GRID_SHAPE)] * impl.N)\n",
    "else:\n",
    "    vf = np.array([_hz2hj(_out, MIN_BOUNDS, MAX_BOUNDS, GRID_SHAPE) for _out in tqdm(out)])\n",
    "\n",
    "plot3D_levelset(\n",
    "    vf,\n",
    "    min_bounds=[           0, *MIN_BOUNDS],\n",
    "    max_bounds=[TIME_HORIZON, *MAX_BOUNDS],\n",
    "    xtitle='Position (m)',\n",
    "    ytitle='Velocity (m/s)',\n",
    "    colorscale='blues',\n",
    "    eye=EYE_MH_W,\n",
    ")"
   ]
  },
  {
   "cell_type": "markdown",
   "metadata": {},
   "source": [
    "## **Specification: $\\square \\lozenge \\psi$**"
   ]
  },
  {
   "cell_type": "markdown",
   "metadata": {},
   "source": [
    "### **Imports**"
   ]
  },
  {
   "cell_type": "code",
   "execution_count": null,
   "metadata": {},
   "outputs": [],
   "source": [
    "# Implementation independent\n",
    "\n",
    "from time import time\n",
    "from contextlib import contextmanager\n",
    "from tqdm import tqdm\n",
    "\n",
    "from pyspect import *\n",
    "from pyspect.set_builder import *\n",
    "from pyspect.primitives.ltl import *\n",
    "\n",
    "# HJ specific\n",
    "\n",
    "from pyspect.impls.hj_reachability import TVHJImpl\n",
    "from pyspect.plotting.levelsets import *\n",
    "\n",
    "import hj_reachability as hj\n",
    "from hj_reachability.systems import DoubleIntegrator as HJDoubleIntegrator\n",
    "\n",
    "# HZ specific\n",
    "\n",
    "from pyspect.plotting.zonotopes import _hz2hj\n",
    "\n",
    "from hz_reachability.hz_impl import TVHZImpl\n",
    "from hz_reachability.systems.cars import *\n",
    "from hz_reachability.systems.integrators import DoubleIntegrator as HZDoubleIntegrator\n",
    "from hz_reachability.spaces import EmptySpace"
   ]
  },
  {
   "cell_type": "code",
   "execution_count": null,
   "metadata": {},
   "outputs": [],
   "source": [
    "@contextmanager\n",
    "def timectx(msgfunc):\n",
    "    \"\"\"Context manager to time a block of code.\"\"\"\n",
    "    start = time()\n",
    "    yield\n",
    "    end = time()\n",
    "    print(msgfunc(end-start))\n",
    "\n",
    "def print_hzinfo(hz):\n",
    "    if isinstance(hz, list):\n",
    "        nz, ng, nb, nc = \\\n",
    "            np.array([[_out.dim, _out.ng, _out.nb, _out.nc]\n",
    "                    for _out in hz]).max(axis=0)\n",
    "    else:\n",
    "        nz,ng,nb,nc = hz.dim, hz.ng, hz.nb, hz.nc\n",
    "    print(f\"nz: {nz}, ng: {ng}, nb: {nb}, nc: {nc}\")"
   ]
  },
  {
   "cell_type": "markdown",
   "metadata": {},
   "source": [
    "### **Hyperparameters**"
   ]
  },
  {
   "cell_type": "code",
   "execution_count": null,
   "metadata": {},
   "outputs": [],
   "source": [
    "AXIS_NAMES = ['x',  'v'] # [m, m/s]\n",
    "MAX_BOUNDS = [+100, +20] # 500m, 30 mps ~= 110 kmph\n",
    "MIN_BOUNDS = [-100, -20] #   0m,  0 mps\n",
    "GRID_SHAPE = (  91,  91)\n",
    "\n",
    "MAX_ACCEL = 1.0     # [mps2]\n",
    "TIME_STEP = 0.5     # [s]\n",
    "TIME_HORIZON = 40   # [s]"
   ]
  },
  {
   "cell_type": "markdown",
   "metadata": {},
   "source": [
    "### **Program**"
   ]
  },
  {
   "cell_type": "code",
   "execution_count": null,
   "metadata": {},
   "outputs": [],
   "source": [
    "## SPECIFICATION\n",
    "\n",
    "T = BoundedSet(x=(-50,  +50))\n",
    "\n",
    "phi = ALWAYS(EVENTUALLY(T))\n",
    "\n",
    "## CONSTRUCT TLT\n",
    "\n",
    "TLT.select(ContinuousLTL)\n",
    "tree = TLT(phi)"
   ]
  },
  {
   "cell_type": "markdown",
   "metadata": {},
   "source": [
    "#### HJ Implementation"
   ]
  },
  {
   "cell_type": "code",
   "execution_count": null,
   "metadata": {},
   "outputs": [],
   "source": [
    "dynamics = dict(cls=HJDoubleIntegrator,\n",
    "                min_accel=-MAX_ACCEL,\n",
    "                max_accel=+MAX_ACCEL)\n",
    "\n",
    "impl = TVHJImpl(dynamics, \n",
    "                AXIS_NAMES,\n",
    "                MIN_BOUNDS,\n",
    "                MAX_BOUNDS,\n",
    "                GRID_SHAPE,\n",
    "                TIME_HORIZON,\n",
    "                time_step=TIME_STEP)\n",
    "\n",
    "with timectx(lambda t: f\"Realization with HJ took {t:.2f} seconds\"):\n",
    "    out = tree.realize(impl)\n",
    "\n",
    "## Plot\n",
    "\n",
    "plot3D_levelset(\n",
    "    out,\n",
    "    min_bounds=[           0, *MIN_BOUNDS],\n",
    "    max_bounds=[TIME_HORIZON, *MAX_BOUNDS],\n",
    "    xtitle='Position (m)',\n",
    "    ytitle='Velocity (m/s)',\n",
    "    colorscale='greens',\n",
    "    eye=EYE_MH_W,\n",
    ")"
   ]
  },
  {
   "cell_type": "markdown",
   "metadata": {},
   "source": [
    "#### HZ Implementation"
   ]
  },
  {
   "cell_type": "code",
   "execution_count": null,
   "metadata": {},
   "outputs": [],
   "source": [
    "space = EmptySpace(MIN_BOUNDS, MAX_BOUNDS)\n",
    "\n",
    "dynamics = HZDoubleIntegrator(max_accel=MAX_ACCEL, dt=TIME_STEP)\n",
    "\n",
    "impl = TVHZImpl(dynamics, space, AXIS_NAMES, time_horizon=TIME_HORIZON, time_step=TIME_STEP)\n",
    "# impl.enable_reduce = True\n",
    "\n",
    "with timectx(lambda t: f\"Realization with HZ took {t:.2f} seconds\"):\n",
    "    out = tree.realize(impl)\n",
    "\n",
    "print_hzinfo(out)\n",
    "\n",
    "## Plot\n",
    "\n",
    "if not isinstance(out, list):\n",
    "    vf = np.array([_hz2hj(out, MIN_BOUNDS, MAX_BOUNDS, GRID_SHAPE)] * impl.N)\n",
    "else:\n",
    "    vf = np.array([_hz2hj(_out, MIN_BOUNDS, MAX_BOUNDS, GRID_SHAPE) for _out in tqdm(out)])\n",
    "\n",
    "plot3D_levelset(\n",
    "    vf,\n",
    "    min_bounds=[           0, *MIN_BOUNDS],\n",
    "    max_bounds=[TIME_HORIZON, *MAX_BOUNDS],\n",
    "    xtitle='Position (m)',\n",
    "    ytitle='Velocity (m/s)',\n",
    "    colorscale='blues',\n",
    "    eye=EYE_MH_W,\n",
    ")"
   ]
  }
 ],
 "metadata": {
  "kernelspec": {
   "display_name": "pyspect",
   "language": "python",
   "name": "python3"
  },
  "language_info": {
   "codemirror_mode": {
    "name": "ipython",
    "version": 3
   },
   "file_extension": ".py",
   "mimetype": "text/x-python",
   "name": "python",
   "nbconvert_exporter": "python",
   "pygments_lexer": "ipython3",
   "version": "3.12.7"
  }
 },
 "nbformat": 4,
 "nbformat_minor": 2
}
