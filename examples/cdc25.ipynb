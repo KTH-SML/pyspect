{
 "cells": [
  {
   "cell_type": "markdown",
   "metadata": {},
   "source": [
    "# **Examples for CDC '25**"
   ]
  },
  {
   "cell_type": "markdown",
   "metadata": {},
   "source": [
    "## **Running Example**"
   ]
  },
  {
   "cell_type": "markdown",
   "metadata": {},
   "source": [
    "The running example from the paper, illustrating basic concepts in `pyspect`. The task is to verify an overtaking scenario."
   ]
  },
  {
   "cell_type": "markdown",
   "metadata": {},
   "source": [
    "### **Imports**"
   ]
  },
  {
   "cell_type": "code",
   "execution_count": 6,
   "metadata": {},
   "outputs": [],
   "source": [
    "from pyspect import *\n",
    "from math import pi\n",
    "from functools import reduce"
   ]
  },
  {
   "cell_type": "markdown",
   "metadata": {},
   "source": [
    "### **Hyperparameters**"
   ]
  },
  {
   "cell_type": "code",
   "execution_count": 7,
   "metadata": {},
   "outputs": [],
   "source": [
    "AXIS_NAMES = ['x', 'y', 'yaw', 'vel'] # [m, m, rad, m/s]\n",
    "MAX_BOUNDS = [200, +4, +pi/16,    25] # pi/12 = 15deg | 35 mps ~= 125 kmph\n",
    "MIN_BOUNDS = [  0, -4, -pi/16,    15] # pi/12 = 15deg | 15 mps ~= 54 kmph\n",
    "GRID_SHAPE = (201, 11,     13,    31)\n",
    "\n",
    "MAX_STEER = pi/128  # [rad/s]   +/- 1.5 degrees/s\n",
    "MAX_ACCEL = 2.0     # [mps2]    \n",
    "TIME_STEP = 0.5     # [s]\n",
    "TIME_HORIZON = 15   # [s]"
   ]
  },
  {
   "cell_type": "markdown",
   "metadata": {},
   "source": [
    "### **Program**"
   ]
  },
  {
   "cell_type": "markdown",
   "metadata": {},
   "source": [
    "#### Task definition\n",
    "\n",
    "1. Define the different regions. These are \"constants\" in the task specification. Note that we can define the sets lazily, such that we do not rely on a specific implementation or set representation yet. This is possible because `pyspect` internally defers evaluation until realization time.\n",
    "\n",
    "2. Write the specification $\\varphi = (p_\\text{hw} \\lor p_\\text{r}) \\:\\mathsf{U}\\: \\texttt{home}$, where $p_\\text{hw}, p_\\text{r}, \\texttt{home} \\in \\mathsf{AP}$. While $p_\\text{hw} \\leftrightarrow z \\in \\texttt{HIGHWAY}$ and $p_\\text{r} \\leftrightarrow z \\in \\texttt{RESIDENTIAL}$, we directly use their corresponding sets in the specification in their stead. The proposition $\\texttt{home}$ is left symbolic and will be bound later."
   ]
  },
  {
   "cell_type": "code",
   "execution_count": 8,
   "metadata": {},
   "outputs": [],
   "source": [
    "## (1) Define the different regions.\n",
    "\n",
    "RIGHT_LANE  = BoundedSet(y=(-3.5, -0.5))\n",
    "LEFT_LANE   = BoundedSet(y=(+0.5, +3.5))\n",
    "BETWEEN     = BoundedSet(y=(-1.5, +1.5))\n",
    "\n",
    "STRAIGHT = BoundedSet(yaw=(-pi/18, +pi/18))\n",
    "\n",
    "INFRONT_OBS = HalfSpaceSet(normal=[ +1, -16],\n",
    "                           offset=[ 40,   1],\n",
    "                           axes = ['x', 't'])\n",
    "\n",
    "BEHIND_OBS = HalfSpaceSet(normal=[ -1, +16],\n",
    "                          offset=[  0,   1],\n",
    "                          axes = ['x', 't'])\n",
    "\n",
    "# Funny way of defining the OBS vehicle for two reasons:\n",
    "# 1. Inter is binary and we have three arguments -> we use functools.reduce\n",
    "# 2. We define OBS negated from INFRONT_OBS/BEHIND_OBS to make GOAL easier to write\n",
    "OBS = reduce(Inter, [Compl(INFRONT_OBS), Compl(BEHIND_OBS), RIGHT_LANE])\n",
    "\n",
    "GOAL = reduce(Inter, [\n",
    "    INFRONT_OBS, \n",
    "    RIGHT_LANE,\n",
    "    STRAIGHT,\n",
    "    BoundedSet(x=(..., 195)),\n",
    "])\n",
    "\n",
    "## (2) Write the specification.\n",
    "\n",
    "ENV = reduce(AND, [\n",
    "    reduce(OR, [\n",
    "        RIGHT_LANE,\n",
    "        LEFT_LANE,\n",
    "        BETWEEN,\n",
    "    ]),\n",
    "    NOT(OBS),\n",
    "    BoundedSet(vel=(16, 24), yaw=(-pi/16 + pi/32, +pi/16 - pi/32)),\n",
    "])\n",
    "\n",
    "TASK = UNTIL(ENV, GOAL)"
   ]
  },
  {
   "cell_type": "markdown",
   "metadata": {},
   "source": [
    "#### Construct the TLT"
   ]
  },
  {
   "cell_type": "markdown",
   "metadata": {},
   "source": [
    "3. Select the set of primitive TLTs. This determines the logic fragment in which the specification is interpreted. In this example, we use continuous-time LTL, i.e., LTL without the \"next\" operator.\n",
    "\n",
    "4. Construct the temporal logic tree and bind the symbolic proposition $\\texttt{home}$ to the concrete set $\\texttt{H}$. The call to `.where(home=H)` updates a internal proposition map $\\mathsf{M}$ so that $\\texttt{home} \\leftrightarrow z \\in H$."
   ]
  },
  {
   "cell_type": "code",
   "execution_count": 9,
   "metadata": {},
   "outputs": [],
   "source": [
    "## (3) Select the set of primitive TLTs.\n",
    "\n",
    "TLT.select(LTLc)\n",
    "\n",
    "## (4) Create the TLT and set the proposition 'goal'.\n",
    "\n",
    "objective = TLT(TASK).where(goal=GOAL)"
   ]
  },
  {
   "cell_type": "markdown",
   "metadata": {},
   "source": [
    "#### Initialize the implementation object"
   ]
  },
  {
   "cell_type": "markdown",
   "metadata": {},
   "source": [
    "First now, we introduce a specific implementation. `pyspect` has some off-the-shelf implementations that can be imported. Note, however, `pyspect` does not abstract _away_ the underlying back-end completely, as we see in the following cell.\n",
    "\n",
    "5. Additional imports for the specific implementation. `TVHJImpl` is a wrapper class around the `hj_reachability` library. `pyspect` includes a forked version with convenience utilities.\n",
    "\n",
    "6. Initialization of the implementation is fully backend-specific. In this case, we specify the dynamics (double integrator), bounds, time horizon, and discretization. This configuration determines how sets like `H` and operators like `UNTIL` will be computed (e.g., using backward reachable sets on a grid).\n",
    "\n",
    "7. Realize the TLT. This is the key step where the temporal logic and reachability analysis meet: `objective.realize(impl)` recursively applies the reachability and set operations defined by the selected logic fragment and implemented in the backend. The output `out` is the satisfaction set (i.e., the states from which the specification holds) in the implementation's set reprentation. \n",
    "\n",
    "8. Plotting. We visualize the satisfaction set using `plot3D_levelset`, which displays the reachable states as a level set over position, velocity, and time. This step is backend-dependent (as value functions are used)."
   ]
  },
  {
   "cell_type": "code",
   "execution_count": 10,
   "metadata": {},
   "outputs": [
    {
     "ename": "ModuleNotFoundError",
     "evalue": "No module named 'pyspect.impls.plotting'",
     "output_type": "error",
     "traceback": [
      "\u001b[31m---------------------------------------------------------------------------\u001b[39m",
      "\u001b[31mModuleNotFoundError\u001b[39m                       Traceback (most recent call last)",
      "\u001b[36mCell\u001b[39m\u001b[36m \u001b[39m\u001b[32mIn[10]\u001b[39m\u001b[32m, line 3\u001b[39m\n\u001b[32m      1\u001b[39m \u001b[38;5;66;03m## (5) Additional imports for the specific implementation.\u001b[39;00m\n\u001b[32m----> \u001b[39m\u001b[32m3\u001b[39m \u001b[38;5;28;01mfrom\u001b[39;00m\u001b[38;5;250m \u001b[39m\u001b[34;01mpyspect\u001b[39;00m\u001b[34;01m.\u001b[39;00m\u001b[34;01mimpls\u001b[39;00m\u001b[34;01m.\u001b[39;00m\u001b[34;01mhj_reachability\u001b[39;00m\u001b[38;5;250m \u001b[39m\u001b[38;5;28;01mimport\u001b[39;00m HJImpl, TVHJImpl\n\u001b[32m      4\u001b[39m \u001b[38;5;28;01mfrom\u001b[39;00m\u001b[38;5;250m \u001b[39m\u001b[34;01mpyspect\u001b[39;00m\u001b[34;01m.\u001b[39;00m\u001b[34;01mplotting\u001b[39;00m\u001b[34;01m.\u001b[39;00m\u001b[34;01mlevelsets\u001b[39;00m\u001b[38;5;250m \u001b[39m\u001b[38;5;28;01mimport\u001b[39;00m *\n\u001b[32m      6\u001b[39m \u001b[38;5;28;01mimport\u001b[39;00m\u001b[38;5;250m \u001b[39m\u001b[34;01mhj_reachability\u001b[39;00m\u001b[38;5;250m \u001b[39m\u001b[38;5;28;01mas\u001b[39;00m\u001b[38;5;250m \u001b[39m\u001b[34;01mhj\u001b[39;00m\n",
      "\u001b[36mFile \u001b[39m\u001b[32m~/Projects/pyspect/src/pyspect/impls/hj_reachability.py:4\u001b[39m\n\u001b[32m      2\u001b[39m \u001b[38;5;28;01mimport\u001b[39;00m\u001b[38;5;250m \u001b[39m\u001b[34;01mhj_reachability\u001b[39;00m\u001b[38;5;250m \u001b[39m\u001b[38;5;28;01mas\u001b[39;00m\u001b[38;5;250m \u001b[39m\u001b[34;01mhj\u001b[39;00m\n\u001b[32m      3\u001b[39m \u001b[38;5;28;01mfrom\u001b[39;00m\u001b[38;5;250m \u001b[39m\u001b[34;01m.\u001b[39;00m\u001b[34;01maxes\u001b[39;00m\u001b[38;5;250m \u001b[39m\u001b[38;5;28;01mimport\u001b[39;00m AxesImpl\n\u001b[32m----> \u001b[39m\u001b[32m4\u001b[39m \u001b[38;5;28;01mfrom\u001b[39;00m\u001b[38;5;250m \u001b[39m\u001b[34;01m.\u001b[39;00m\u001b[34;01mplotting\u001b[39;00m\u001b[34;01m.\u001b[39;00m\u001b[34;01mlevelsets\u001b[39;00m\u001b[38;5;250m \u001b[39m\u001b[38;5;28;01mimport\u001b[39;00m *\n\u001b[32m      6\u001b[39m \u001b[38;5;66;03m# Hamilton-Jacobi Reachability\u001b[39;00m\n\u001b[32m      7\u001b[39m \u001b[38;5;66;03m# ----------------------------\u001b[39;00m\n\u001b[32m      9\u001b[39m \u001b[38;5;28;01mclass\u001b[39;00m\u001b[38;5;250m \u001b[39m\u001b[34;01mHJImpl\u001b[39;00m(AxesImpl):\n",
      "\u001b[31mModuleNotFoundError\u001b[39m: No module named 'pyspect.impls.plotting'"
     ]
    }
   ],
   "source": [
    "## (5) Additional imports for the specific implementation.\n",
    "\n",
    "from pyspect.impls.hj_reachability import HJImpl, TVHJImpl\n",
    "from pyspect.plotting.levelsets import *\n",
    "\n",
    "import hj_reachability as hj\n",
    "from hj_reachability.systems import *\n",
    "\n",
    "## (6) Define the implementation of the reachability algorithm.\n",
    "\n",
    "dynamics = dict(cls=Bicycle4D,\n",
    "                wheelbase=2.7,\n",
    "                min_accel=-MAX_ACCEL,\n",
    "                max_accel=+MAX_ACCEL,\n",
    "                min_steer=-MAX_STEER,\n",
    "                max_steer=+MAX_STEER)\n",
    "\n",
    "impl = TVHJImpl(dynamics,\n",
    "                AXIS_NAMES,\n",
    "                MIN_BOUNDS,\n",
    "                MAX_BOUNDS,\n",
    "                GRID_SHAPE,\n",
    "                TIME_HORIZON,\n",
    "                time_step=TIME_STEP)\n",
    "\n",
    "## (7) Run the reachability program ##\n",
    "\n",
    "# out = objective.realize(impl)\n",
    "out = TLT(TASK).realize(impl)\n",
    "\n",
    "# `out` will have the same object type that `impl` operates with.\n",
    "# For TVHJImpl, `out` will be a numpy array of the gridded value function.\n",
    "print(f\"{type(out) = }, {out.min() = }, {out.max() = }\")\n",
    "\n",
    "\n",
    "## (8) Plotting\n"
   ]
  },
  {
   "cell_type": "code",
   "execution_count": null,
   "metadata": {},
   "outputs": [],
   "source": [
    "plot_levelsets(\n",
    "    impl.project_onto(out, 't', 'x', 'y', complete=True),\n",
    "    (impl.project_onto(OBS(impl), 't', 'x', 'y', complete=True), dict(colorscale='reds')),\n",
    "    plot_func=plot3D_levelset,\n",
    "    min_bounds=[           0, *MIN_BOUNDS[:2]],\n",
    "    max_bounds=[TIME_HORIZON, *MAX_BOUNDS[:2]],\n",
    "    axes=(1, 2, 0),\n",
    "    xtitle='x (m)',\n",
    "    ytitle='y (m)',\n",
    "    ztitle='t (s)',\n",
    "    eye=EYE_ML_SW,\n",
    ")"
   ]
  },
  {
   "cell_type": "code",
   "execution_count": null,
   "metadata": {},
   "outputs": [],
   "source": [
    "plot3D_levelset(\n",
    "    impl.project_onto(out, 't', 'x', 'vel', complete=True),\n",
    "    min_bounds=[           0, MIN_BOUNDS[0], MIN_BOUNDS[3]],\n",
    "    max_bounds=[TIME_HORIZON, MAX_BOUNDS[0], MAX_BOUNDS[3]],\n",
    "    axes=(1, 2, 0),\n",
    "    xtitle='x (m)',\n",
    "    ytitle='v (m/s)',\n",
    "    ztitle='t (s)',\n",
    "    eye=EYE_MH_W,\n",
    ")"
   ]
  },
  {
   "cell_type": "code",
   "execution_count": null,
   "metadata": {},
   "outputs": [],
   "source": [
    "plot3D_levelset(\n",
    "    impl.project_onto(out, 'x', 'y', 'yaw', complete=True),\n",
    "    min_bounds=[MIN_BOUNDS[0], MIN_BOUNDS[1], MIN_BOUNDS[2]],\n",
    "    max_bounds=[MAX_BOUNDS[0], MAX_BOUNDS[1], MAX_BOUNDS[2]],\n",
    "    axes=(0, 1, 2),\n",
    "    xtitle='x (m)',\n",
    "    ytitle='y (m)',\n",
    "    ztitle='yaw (rad)',\n",
    "    eye=EYE_MH_W,\n",
    ")"
   ]
  },
  {
   "cell_type": "markdown",
   "metadata": {},
   "source": [
    "## **Specification: $\\square \\psi$**"
   ]
  },
  {
   "cell_type": "markdown",
   "metadata": {},
   "source": [
    "This specification requires the system to remain within a safe region $\\psi$ for the entire time horizon. It encodes an invariance property, meaning the condition $\\psi$ must hold at all times. The HJ backend realizes this using an avoid set computed via universal control, solving $\\Box \\psi$ as a special case of $\\neg \\Diamond \\neg \\psi$, while the HZ backend uses a fixed-point formulation, i.e. $\\psi \\land \\bigcirc(\\psi \\land \\bigcirc(\\dots))$. Both methods result a valid set of initial states from which the system can always satisfy $\\psi$ throughout the trajectory."
   ]
  },
  {
   "cell_type": "markdown",
   "metadata": {},
   "source": [
    "### **Imports**"
   ]
  },
  {
   "cell_type": "code",
   "execution_count": null,
   "metadata": {},
   "outputs": [],
   "source": [
    "# Implementation independent\n",
    "\n",
    "from time import time\n",
    "from contextlib import contextmanager\n",
    "from tqdm import tqdm\n",
    "\n",
    "from pyspect import *\n",
    "\n",
    "# HJ specific\n",
    "\n",
    "from pyspect.impls.hj_reachability import TVHJImpl\n",
    "from pyspect.plotting.levelsets import *\n",
    "\n",
    "import hj_reachability as hj\n",
    "from hj_reachability.systems import DoubleIntegrator as HJDoubleIntegrator\n",
    "\n",
    "# HZ specific\n",
    "\n",
    "from pyspect.plotting.zonotopes import _hz2hj\n",
    "\n",
    "from hz_reachability.hz_impl import TVHZImpl\n",
    "from hz_reachability.systems.cars import *\n",
    "from hz_reachability.systems.integrators import DoubleIntegrator as HZDoubleIntegrator\n",
    "from hz_reachability.spaces import EmptySpace"
   ]
  },
  {
   "cell_type": "code",
   "execution_count": null,
   "metadata": {},
   "outputs": [],
   "source": [
    "@contextmanager\n",
    "def timectx(msgfunc):\n",
    "    \"\"\"Context manager to time a block of code.\"\"\"\n",
    "    start = time()\n",
    "    yield\n",
    "    end = time()\n",
    "    print(msgfunc(end-start))\n",
    "\n",
    "def print_hzinfo(hz):\n",
    "    if isinstance(hz, list):\n",
    "        nz, ng, nb, nc = \\\n",
    "            np.array([[_out.dim, _out.ng, _out.nb, _out.nc]\n",
    "                    for _out in hz]).max(axis=0)\n",
    "    else:\n",
    "        nz,ng,nb,nc = hz.dim, hz.ng, hz.nb, hz.nc\n",
    "    print(f\"nz: {nz}, ng: {ng}, nb: {nb}, nc: {nc}\")"
   ]
  },
  {
   "cell_type": "markdown",
   "metadata": {},
   "source": [
    "### **Hyperparameters**"
   ]
  },
  {
   "cell_type": "code",
   "execution_count": null,
   "metadata": {},
   "outputs": [],
   "source": [
    "AXIS_NAMES = ['x',  'v'] # [m, m/s]\n",
    "MAX_BOUNDS = [+100, +20] # 500m, 30 mps ~= 110 kmph\n",
    "MIN_BOUNDS = [-100, -20] #   0m,  0 mps\n",
    "GRID_SHAPE = (  91,  91)\n",
    "\n",
    "MAX_ACCEL = 1.0     # [mps2]\n",
    "TIME_STEP = 0.5     # [s]\n",
    "TIME_HORIZON = 40   # [s]"
   ]
  },
  {
   "cell_type": "markdown",
   "metadata": {},
   "source": [
    "### **Program**"
   ]
  },
  {
   "cell_type": "code",
   "execution_count": null,
   "metadata": {},
   "outputs": [],
   "source": [
    "## SPECIFICATION\n",
    "\n",
    "T = BoundedSet(x=(-50,  +50))\n",
    "\n",
    "phi = ALWAYS(T)"
   ]
  },
  {
   "cell_type": "markdown",
   "metadata": {},
   "source": [
    "#### Two interpretations of ALWAYS"
   ]
  },
  {
   "cell_type": "code",
   "execution_count": null,
   "metadata": {},
   "outputs": [],
   "source": [
    "# Define ALWAYS through RCI set (relating to ¬◇¬ψ)\n",
    "\n",
    "@primitive(ALWAYS('_1'))\n",
    "def Always_rci(_1: 'TLTLike') -> Tuple[SetBuilder, APPROXDIR]:\n",
    "    b1, a1 = _1._builder, _1._approx\n",
    "\n",
    "    ao = APPROXDIR.UNDER\n",
    "    return (\n",
    "        AppliedSet('rci', b1),\n",
    "        ao + a1 if ao * a1 == APPROXDIR.EXACT else \n",
    "        a1      if ao == a1 else\n",
    "        APPROXDIR.INVALID,\n",
    "    )\n",
    "\n",
    "# Define Always through fixed-point iteration\n",
    "\n",
    "@primitive(ALWAYS('_1'))\n",
    "def Always_fp(_1: 'TLTLike') -> Tuple[SetBuilder, APPROXDIR]:\n",
    "\n",
    "    N = int(TIME_HORIZON / TIME_STEP)\n",
    "\n",
    "    phi = 'psi'\n",
    "    for _ in range(N-1):\n",
    "        phi = AND('psi', NEXT(phi))\n",
    "\n",
    "    tree = TLT(phi).where(psi=_1)\n",
    "    return (tree._builder, tree._approx)"
   ]
  },
  {
   "cell_type": "markdown",
   "metadata": {},
   "source": [
    "#### HJ Implementation"
   ]
  },
  {
   "cell_type": "code",
   "execution_count": null,
   "metadata": {},
   "outputs": [],
   "source": [
    "## CONSTRUCT TLT\n",
    "\n",
    "TLT.select(LTLc | Always_rci)\n",
    "\n",
    "tree = TLT(phi)\n",
    "\n",
    "print(f\"Approximation direction: {tree._approx = }\")\n",
    "\n",
    "## INITIALIZE IMPLEMENTATION\n",
    "\n",
    "dynamics = dict(cls=HJDoubleIntegrator,\n",
    "                min_accel=-MAX_ACCEL,\n",
    "                max_accel=+MAX_ACCEL)\n",
    "\n",
    "impl = TVHJImpl(dynamics, \n",
    "                AXIS_NAMES,\n",
    "                MIN_BOUNDS,\n",
    "                MAX_BOUNDS,\n",
    "                GRID_SHAPE,\n",
    "                TIME_HORIZON,\n",
    "                time_step=TIME_STEP)\n",
    "\n",
    "with timectx(lambda t: f\"Realization with HJ took {t:.2f} seconds\"):\n",
    "    out = tree.realize(impl)\n",
    "\n",
    "print(f\"{type(out) = }\")\n",
    "\n",
    "## PLOT\n",
    "\n",
    "plot3D_levelset(\n",
    "    out,\n",
    "    min_bounds=[           0, *MIN_BOUNDS],\n",
    "    max_bounds=[TIME_HORIZON, *MAX_BOUNDS],\n",
    "    xtitle='Position (m)',\n",
    "    ytitle='Velocity (m/s)',\n",
    "    colorscale='greens',\n",
    "    eye=EYE_MH_W,\n",
    ")"
   ]
  },
  {
   "cell_type": "markdown",
   "metadata": {},
   "source": [
    "#### HZ Implementation"
   ]
  },
  {
   "cell_type": "code",
   "execution_count": null,
   "metadata": {},
   "outputs": [],
   "source": [
    "## CONSTRUCT TLT\n",
    "\n",
    "TLT.select(LTLd | Always_fp)\n",
    "\n",
    "tree = TLT(phi)\n",
    "\n",
    "print(f\"Approximation direction: {tree._approx = }\")\n",
    "\n",
    "## INITIALIZE IMPLEMENTATION\n",
    "\n",
    "space = EmptySpace(MIN_BOUNDS, MAX_BOUNDS)\n",
    "\n",
    "dynamics = HZDoubleIntegrator(max_accel=MAX_ACCEL, dt=TIME_STEP)\n",
    "\n",
    "impl = TVHZImpl(dynamics, space, AXIS_NAMES, time_horizon=TIME_HORIZON, time_step=TIME_STEP)\n",
    "# impl.enable_reduce = True\n",
    "\n",
    "with timectx(lambda t: f\"Realization with HZ took {t:.2f} seconds\"):\n",
    "    out = tree.realize(impl)\n",
    "\n",
    "print(f\"{type(out) = }\")\n",
    "print_hzinfo(out)\n",
    "\n",
    "## Plot\n",
    "\n",
    "if not isinstance(out, list):\n",
    "    vf = np.array([_hz2hj(out, MIN_BOUNDS, MAX_BOUNDS, GRID_SHAPE)] * impl.N)\n",
    "else:\n",
    "    vf = np.array([_hz2hj(_out, MIN_BOUNDS, MAX_BOUNDS, GRID_SHAPE) for _out in tqdm(out)])\n",
    "\n",
    "plot3D_levelset(\n",
    "    vf,\n",
    "    min_bounds=[           0, *MIN_BOUNDS],\n",
    "    max_bounds=[TIME_HORIZON, *MAX_BOUNDS],\n",
    "    xtitle='Position (m)',\n",
    "    ytitle='Velocity (m/s)',\n",
    "    colorscale='blues',\n",
    "    eye=EYE_MH_W,\n",
    ")"
   ]
  },
  {
   "cell_type": "markdown",
   "metadata": {},
   "source": [
    "## **Specification: $\\square \\lozenge \\psi$**"
   ]
  },
  {
   "cell_type": "markdown",
   "metadata": {},
   "source": [
    "This specification ensures that the system can reach $\\psi$ infinitely often, i.e., $\\psi$ must remain recurrently reachable throughout the time horizon. Formally, it is a liveness property requiring that at every point in time, it is possible to reach a state satisfying $\\psi$ in the future. The HJ backend supports this through nested reachability using negation and disjunction (e.g., $\\Box \\Diamond \\psi = \\neg \\Diamond \\neg \\Diamond \\psi$). However, HZ implementations typically cannot soundly support this due to approximation mismatches may violate the logical semantics when doing the fixed-point iteration. In response, pyspect flags and rejects this combination."
   ]
  },
  {
   "cell_type": "markdown",
   "metadata": {},
   "source": [
    "### **Imports**"
   ]
  },
  {
   "cell_type": "code",
   "execution_count": null,
   "metadata": {},
   "outputs": [],
   "source": [
    "# Implementation independent\n",
    "\n",
    "from time import time\n",
    "from contextlib import contextmanager\n",
    "from tqdm import tqdm\n",
    "\n",
    "from pyspect import *\n",
    "\n",
    "# HJ specific\n",
    "\n",
    "from pyspect.impls.hj_reachability import TVHJImpl\n",
    "from pyspect.plotting.levelsets import *\n",
    "\n",
    "import hj_reachability as hj\n",
    "from hj_reachability.systems import DoubleIntegrator as HJDoubleIntegrator\n",
    "\n",
    "# HZ specific\n",
    "\n",
    "from pyspect.plotting.zonotopes import _hz2hj\n",
    "\n",
    "from hz_reachability.hz_impl import TVHZImpl\n",
    "from hz_reachability.systems.cars import *\n",
    "from hz_reachability.systems.integrators import DoubleIntegrator as HZDoubleIntegrator\n",
    "from hz_reachability.spaces import EmptySpace"
   ]
  },
  {
   "cell_type": "code",
   "execution_count": null,
   "metadata": {},
   "outputs": [],
   "source": [
    "@contextmanager\n",
    "def timectx(msgfunc):\n",
    "    \"\"\"Context manager to time a block of code.\"\"\"\n",
    "    start = time()\n",
    "    yield\n",
    "    end = time()\n",
    "    print(msgfunc(end-start))\n",
    "\n",
    "def print_hzinfo(hz):\n",
    "    if isinstance(hz, list):\n",
    "        nz, ng, nb, nc = \\\n",
    "            np.array([[_out.dim, _out.ng, _out.nb, _out.nc]\n",
    "                    for _out in hz]).max(axis=0)\n",
    "    else:\n",
    "        nz,ng,nb,nc = hz.dim, hz.ng, hz.nb, hz.nc\n",
    "    print(f\"nz: {nz}, ng: {ng}, nb: {nb}, nc: {nc}\")"
   ]
  },
  {
   "cell_type": "markdown",
   "metadata": {},
   "source": [
    "### **Hyperparameters**"
   ]
  },
  {
   "cell_type": "code",
   "execution_count": null,
   "metadata": {},
   "outputs": [],
   "source": [
    "AXIS_NAMES = ['x',  'v'] # [m, m/s]\n",
    "MAX_BOUNDS = [+100, +20] # 500m, 30 mps ~= 110 kmph\n",
    "MIN_BOUNDS = [-100, -20] #   0m,  0 mps\n",
    "GRID_SHAPE = (  91,  91)\n",
    "\n",
    "MAX_ACCEL = 1.0     # [mps2]\n",
    "TIME_STEP = 0.5     # [s]\n",
    "TIME_HORIZON = 40   # [s]"
   ]
  },
  {
   "cell_type": "markdown",
   "metadata": {},
   "source": [
    "### **Program**"
   ]
  },
  {
   "cell_type": "code",
   "execution_count": null,
   "metadata": {},
   "outputs": [],
   "source": [
    "## SPECIFICATION\n",
    "\n",
    "T = BoundedSet(x=(-50,  +50))\n",
    "\n",
    "phi = ALWAYS(EVENTUALLY(T))"
   ]
  },
  {
   "cell_type": "markdown",
   "metadata": {},
   "source": [
    "#### Two interpretations of ALWAYS"
   ]
  },
  {
   "cell_type": "code",
   "execution_count": null,
   "metadata": {},
   "outputs": [],
   "source": [
    "# Define ALWAYS through RCI set (relating to ¬◇¬ψ)\n",
    "\n",
    "@primitive(ALWAYS('_1'))\n",
    "def Always_rci(_1: 'TLTLike') -> Tuple[SetBuilder, APPROXDIR]:\n",
    "    b1, a1 = _1._builder, _1._approx\n",
    "\n",
    "    ao = APPROXDIR.UNDER\n",
    "    return (\n",
    "        AppliedSet('rci', b1),\n",
    "        ao + a1 if ao * a1 == APPROXDIR.EXACT else \n",
    "        a1      if ao == a1 else\n",
    "        APPROXDIR.INVALID,\n",
    "    )\n",
    "\n",
    "# Define Always through fixed-point iteration\n",
    "\n",
    "@primitive(ALWAYS('_1'))\n",
    "def Always_fp(_1: 'TLTLike') -> Tuple[SetBuilder, APPROXDIR]:\n",
    "\n",
    "    N = int(TIME_HORIZON / TIME_STEP)\n",
    "\n",
    "    phi = 'psi'\n",
    "    for _ in range(N-1):\n",
    "        phi = AND('psi', NEXT(phi))\n",
    "\n",
    "    tree = TLT(phi).where(psi=_1)\n",
    "    return (tree._builder, tree._approx)"
   ]
  },
  {
   "cell_type": "markdown",
   "metadata": {},
   "source": [
    "#### HJ Implementation"
   ]
  },
  {
   "cell_type": "code",
   "execution_count": null,
   "metadata": {},
   "outputs": [],
   "source": [
    "## CONSTRUCT TLT\n",
    "\n",
    "TLT.select(LTLc | Always_rci)\n",
    "tree = TLT(phi)\n",
    "\n",
    "## INITIALIZE IMPLEMENTATION\n",
    "\n",
    "dynamics = dict(cls=HJDoubleIntegrator,\n",
    "                min_accel=-MAX_ACCEL,\n",
    "                max_accel=+MAX_ACCEL)\n",
    "\n",
    "impl = TVHJImpl(dynamics, \n",
    "                AXIS_NAMES,\n",
    "                MIN_BOUNDS,\n",
    "                MAX_BOUNDS,\n",
    "                GRID_SHAPE,\n",
    "                TIME_HORIZON,\n",
    "                time_step=TIME_STEP)\n",
    "\n",
    "with timectx(lambda t: f\"Realization with HJ took {t:.2f} seconds\"):\n",
    "    out = tree.realize(impl)\n",
    "\n",
    "## Plot\n",
    "\n",
    "plot3D_levelset(\n",
    "    out,\n",
    "    min_bounds=[           0, *MIN_BOUNDS],\n",
    "    max_bounds=[TIME_HORIZON, *MAX_BOUNDS],\n",
    "    xtitle='Position (m)',\n",
    "    ytitle='Velocity (m/s)',\n",
    "    colorscale='greens',\n",
    "    eye=EYE_MH_W,\n",
    ")"
   ]
  },
  {
   "cell_type": "markdown",
   "metadata": {},
   "source": [
    "#### HZ Implementation"
   ]
  },
  {
   "cell_type": "code",
   "execution_count": null,
   "metadata": {},
   "outputs": [],
   "source": [
    "## CONSTRUCT TLT\n",
    "\n",
    "TLT.select(LTLd | Always_fp)\n",
    "tree = TLT(phi)\n",
    "\n",
    "## INITIALIZE IMPLEMENTATION\n",
    "\n",
    "space = EmptySpace(MIN_BOUNDS, MAX_BOUNDS)\n",
    "\n",
    "dynamics = HZDoubleIntegrator(max_accel=MAX_ACCEL, dt=TIME_STEP)\n",
    "\n",
    "impl = TVHZImpl(dynamics, space, AXIS_NAMES, time_horizon=TIME_HORIZON, time_step=TIME_STEP)\n",
    "# impl.enable_reduce = True\n",
    "\n",
    "with timectx(lambda t: f\"Realization with HZ took {t:.2f} seconds\"):\n",
    "    out = tree.realize(impl)\n",
    "\n",
    "print_hzinfo(out)\n",
    "\n",
    "## Plot\n",
    "\n",
    "if not isinstance(out, list):\n",
    "    vf = np.array([_hz2hj(out, MIN_BOUNDS, MAX_BOUNDS, GRID_SHAPE)] * impl.N)\n",
    "else:\n",
    "    vf = np.array([_hz2hj(_out, MIN_BOUNDS, MAX_BOUNDS, GRID_SHAPE) for _out in tqdm(out)])\n",
    "\n",
    "plot3D_levelset(\n",
    "    vf,\n",
    "    min_bounds=[           0, *MIN_BOUNDS],\n",
    "    max_bounds=[TIME_HORIZON, *MAX_BOUNDS],\n",
    "    xtitle='Position (m)',\n",
    "    ytitle='Velocity (m/s)',\n",
    "    colorscale='blues',\n",
    "    eye=EYE_MH_W,\n",
    ")"
   ]
  }
 ],
 "metadata": {
  "kernelspec": {
   "display_name": "pyspect",
   "language": "python",
   "name": "python3"
  },
  "language_info": {
   "codemirror_mode": {
    "name": "ipython",
    "version": 3
   },
   "file_extension": ".py",
   "mimetype": "text/x-python",
   "name": "python",
   "nbconvert_exporter": "python",
   "pygments_lexer": "ipython3",
   "version": "3.12.11"
  }
 },
 "nbformat": 4,
 "nbformat_minor": 2
}
